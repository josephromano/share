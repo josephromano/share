{
 "cells": [
  {
   "cell_type": "markdown",
   "metadata": {},
   "source": [
    "<h1><center>PHYS 5306: Classical Dynamics</center></h1>\n",
    "\n",
    "<h2><center>Joseph D. Romano<br>\n",
    "    Texas Tech University<br>\n",
    "    (Fall 2020)\n",
    "    </center></h2>\n",
    "\n",
    "<center><a href = \"mailto: joseph.d.romano@ttu.edu\">joseph.d.romano@ttu.edu</a></center>"
   ]
  },
  {
   "cell_type": "markdown",
   "metadata": {},
   "source": [
    "## Load relevant packages"
   ]
  },
  {
   "cell_type": "code",
   "execution_count": 1,
   "metadata": {},
   "outputs": [],
   "source": [
    "%load_ext autoreload\n",
    "%autoreload 2"
   ]
  },
  {
   "cell_type": "code",
   "execution_count": 2,
   "metadata": {},
   "outputs": [],
   "source": [
    "import numpy as np\n",
    "import matplotlib.pyplot as plt\n",
    "import matplotlib as mpl\n",
    "%matplotlib inline\n",
    "%config InlineBackend.figure_format = 'retina'\n",
    "import pickle, json\n",
    "import astropy.constants as c\n",
    "import astropy.units as u\n",
    "from mpmath import *\n",
    "from sympy import *\n",
    "import sympy\n",
    "from sympy.solvers import solve\n",
    "from sympy.plotting import plot\n",
    "\n",
    "mpl.rcParams['figure.dpi'] = 100\n",
    "#mpl.rcParams['figure.figsize'] = [5,3]\n",
    "mpl.rcParams['text.usetex'] = True"
   ]
  },
  {
   "cell_type": "markdown",
   "metadata": {},
   "source": [
    "# 1. Lagrangian mechanics (1-5)\n",
    "\n",
    "- Write down the Lagrangian for a simple system in terms of \n",
    "generalized coordinates.\n",
    "\n",
    "- Distinguish generalized coordinates from Cartesian coordinates.\n",
    "\n",
    "- Write down Lagrange's equations.\n",
    "\n",
    "- Define the action in terms of the Lagrangian, and derive Lagrange's equations starting from the action.\n",
    "\n",
    "- Show that Lagrange's equations are unchanged if one adds a\n",
    "total time derivative $d f(q,t)/d t$ to $L$.\n",
    "\n",
    "- Include constraint forces in the Lagrangian formalism by introducing \n",
    "Lagrange multipliers and constraint functions.\n",
    "\n",
    "- Include both holonomic and non-holonomic constraint forces in the Lagrangian formalism\n",
    "\n",
    "- Define and give examples of a {\\em closed system}, \n",
    "{\\em constant external field}, and {\\em uniform field}.\n",
    "\n"
   ]
  },
  {
   "cell_type": "markdown",
   "metadata": {},
   "source": [
    "# 2. Non-inertial reference frames (39)\n",
    "\n",
    "- Write down the relationship between velocity vectors \n",
    "in inertial and non-inertial reference frames.\n",
    "\n",
    "- Distinguish non-inertial reference frames associated\n",
    "with translational and rotational motion.\n",
    "\n",
    "- Give examples of the Coriolis, centrifugal, translational \n",
    "acceleration, and rotational acceleration fictitious force terms.\n",
    "\n",
    "- Explain the physical significance of Foucault's pendulum."
   ]
  },
  {
   "cell_type": "markdown",
   "metadata": {},
   "source": [
    "# 3. Hamiltonian mechanics (40)\n",
    "\n",
    "- Write down the Hamiltonian $H(p,q,t)$ for a simple \n",
    "system starting from a Lagrangian $L(q,\\dot q,t)$.\n",
    "\n",
    "- Write down Hamilton's equations for $p_i$ and $q_i$.\n",
    "\n",
    "- Explain the fundamental difference between Hamilton's \n",
    "equations and Lagrange's equations.\n",
    "\n",
    "- Show the equivalence of Hamilton's equations and Lagrange's equation\n",
    "for simple systems."
   ]
  },
  {
   "cell_type": "markdown",
   "metadata": {},
   "source": [
    "# 4. Conservation laws (6-10)\n",
    "\n",
    "- Show how conservation of energy, momentum, and angular \n",
    "momentum are connected to time translation, space translation, \n",
    "and rotational symmetry, respectively.\n",
    "\n",
    "- Write down the general expression for the \n",
    "energy function $E$.\n",
    "\n",
    "- Explain what it means for a function to be a homogeneous\n",
    "function of degree $k$.\n",
    "\n",
    "- Write down the expression for the generalized momentum $p_i$.\n",
    "\n",
    "- Write down the expression for the center of mass (COM) of\n",
    "a system of particles.\n",
    "\n",
    "- Write down the virial theorem for a system whose motion \n",
    "takes place in a finite region of space and whose potential \n",
    "energy is a homogoneous function of degree $k$ in the coordinates."
   ]
  },
  {
   "cell_type": "markdown",
   "metadata": {},
   "source": [
    "# 5. Central force motion (11, 13-15)\n",
    "\n",
    "- Write down an integral expression for $t$ for 1-d motion\n",
    "in a fixed external field $U(x)$.\n",
    "\n",
    "- Determine the allowed values of the energy and turning\n",
    "points for 1-d motion in a fixed external field.\n",
    "\n",
    "- Transform the problem of two interacting particles into \n",
    "an effective one-body problem by working in the COM frame.\n",
    "\n",
    "- Show that both energy and angular momentum are \n",
    "conserved for a central potential.\n",
    "\n",
    "- Write down an expression for the effective potential \n",
    "$U_{\\rm eff}(r)$ in terms of $U(r)$ and $\\ell$.\n",
    "\n",
    "- Plot the effective potential for some simple central force\n",
    "potentials.\n",
    "\n",
    "- From the graph of the effective potential, determine the \n",
    "different types of allowed motion.\n",
    "\n",
    "- Write down integral expressions for $t$ and $\\phi$ in terms\n",
    "of $r$ for a general central potential.\n",
    "\n",
    "- Evaluate these two integrals for Kepler's problem, using\n",
    "appropriate trig substitutions.\n",
    "\n",
    "- Derive the relationship between $E$, $\\ell$, $a$, $b$,\n",
    "$e$, and $p$ for an ellipse.\n",
    "\n",
    "- State the only two central potentials that have closed \n",
    "bound orbits.\n",
    "\n",
    "- State and derive Kepler's three laws of planetary motion.\n",
    "\n",
    "- Explain the difference in $E$ and $e$ for elliptical, parabolic,\n",
    "and hyperbolic motion."
   ]
  },
  {
   "cell_type": "markdown",
   "metadata": {},
   "source": [
    "# 6. Collisions and scattering (16-20)\n",
    "\n",
    "- Draw diagrams relating velocities in the lab and COM frames for \n",
    "the disintegration of a single particle.\n",
    "\n",
    "- Draw diagrams relating the momenta in the lab and COM frames \n",
    "for an elastic collision of two particles ($m_2$ initially at \n",
    "rest in the lab frame).\n",
    "\n",
    "- Explain what information can and cannot be provided for an \n",
    "elastic collison of two particles, just using conservation of \n",
    "momentum and conservation of kinetic energy.\n",
    "\n",
    "- Derive formulas relating the scattering angles $\\chi$,\n",
    "$\\theta_1$, $\\theta_2$ in the COM and lab frames.\n",
    "\n",
    "- Draw diagrams showing how the scattering angle $\\chi$ is \n",
    "related to the angle of closest approach $\\phi_0$.\n",
    "\n",
    "- Relate the impact parameter $\\rho$ and initial velocity \n",
    "$v_\\infty$ to the energy $E$ and angular momentum $\\ell$.\n",
    "\n",
    "- Integrate (18.4) for $\\phi_0$ for simple potentials---e.g., \n",
    "$U(r) = \\alpha/r$ for Rutherford scattering.\n",
    "\n",
    "- Write down expressions for \n",
    "${\\rm d}\\sigma$ in terms of ${\\rm d}\\rho$, ${\\rm d}\\chi$, ${\\rm d}\\theta_1$, \n",
    "${\\rm d}\\theta_2$, or ${\\rm d}\\Omega$, ${\\rm d}\\Omega_1$, ${\\rm d}\\Omega_2$.\n",
    "\n",
    "- Explain how one can obtain an expression for small-angle \n",
    "scattering starting from (18.4) for $\\phi_0$."
   ]
  },
  {
   "cell_type": "markdown",
   "metadata": {},
   "source": [
    "# 7. Small oscillations (21-23)\n",
    "\n",
    "- Explain what stable equilibrium means in terms of the \n",
    "potential energy $U(q)$.\n",
    "\n",
    "- Calculate the frequency for small oscillations about \n",
    "a position of stable equilibrium.\n",
    "\n",
    "- Solve the equations of motion for both free and \n",
    "forced oscillation in one dimension, noting the difference\n",
    "between the {\\em general solution} of the \n",
    "homogeneous equation and a {\\em particular integral} \n",
    "of the inhomogeneous equation.\n",
    " \n",
    "- Calculate the eigenfrequencies / eigenvectors for\n",
    "small oscillations of systems with more than one DOF."
   ]
  },
  {
   "cell_type": "markdown",
   "metadata": {},
   "source": [
    "# 8. Rigid body motion (31-36, 38)\n",
    "\n",
    "- Write down an expression for the components  $I_{ik}$\n",
    "of the inertia tensor as a sum over discrete mass points \n",
    "or as an integral over the volume of the body.\n",
    "\n",
    "- Obtain or identify the {\\em principal axes of\n",
    "inertia} for various rigid bodies.\n",
    "\n",
    "- Calculate the \n",
    "{\\em principal moments of inertia} for various rigid bodies.\n",
    "\n",
    "- Calculate the kinetic energy of a rigid body in terms of\n",
    "its COM motion and rotational kinetic energy.\n",
    "\n",
    "- Write down an expression for the angular \n",
    "momentum vector $\\vec M$ in terms $I_{ik}$ and ${\\Omega}_i$.\n",
    "\n",
    "- Write down the equations of motion for a rigid body with \n",
    "respect to an inertial frame.\n",
    "\n",
    "- Derive Euler's equations for rigid body motion (equations \n",
    "of motion in the body frame).\n",
    "\n",
    "- Draw a diagram showing the definition of the Euler angles\n",
    "$(\\phi,\\theta,\\psi)$.\n",
    "\n",
    "- Calculate the components of $\\boldsymbol{\\Omega}$ wrt body \n",
    "frame in terms of the Euler angles and their time derivatives."
   ]
  },
  {
   "cell_type": "markdown",
   "metadata": {},
   "source": [
    "# 1. Lagrangian mechanics (1-5)"
   ]
  },
  {
   "cell_type": "markdown",
   "metadata": {},
   "source": [
    "### 1) Write down the Lagrangian for a simple system in terms of  generalized coordinates.\n",
    "\n",
    "Example:\n",
    "\n",
    "$$\n",
    "L(x,\\dot x, t) = \\frac{1}{2}m\\dot x^2 - \\frac{1}{2}kx^2\n",
    "$$\n",
    "\n",
    "More generally:\n",
    "\n",
    "$$\n",
    "L(q,\\dot q, t)= T-U\n",
    "= \\frac{1}{2}\\sum_{i,k}a_{ik}(q) \\dot q_i\\dot q_k - U(q_1,q_2,\\cdots, q_n, t)\n",
    "$$"
   ]
  },
  {
   "cell_type": "markdown",
   "metadata": {},
   "source": [
    "### 2) Distinguish generalized coordinates from Cartesian coordinates.\n",
    "\n",
    "Example: Double pendulum\n",
    "\n",
    "<img src=\"img/double_pendulum.pdf\" width=\"400\">\n",
    "\n",
    "Use the two angles $\\phi_1$, $\\phi_2$ for the generalized coordinates $q_1$, $q_2$, as opposed to the Cartesian coordinates $(x_1,y_1)$ and $(x_2,y_2)$, which are subject to constraints imposed by the pendulum rods."
   ]
  },
  {
   "cell_type": "markdown",
   "metadata": {},
   "source": [
    "### 3) Write down Lagrange's equations.\n",
    "\n",
    "$$\n",
    "\\frac{d}{dt}\\left(\\frac{\\partial L}{\\partial \\dot q_i}\\right)\n",
    "= \\frac{\\partial L}{\\partial q_i}\\,,\n",
    "\\qquad i=1,2,\\cdots, n\n",
    "$$\n",
    "\n",
    "This is of the form\n",
    "\n",
    "$$\n",
    "\\frac{dp_i}{dt} = F_i\n",
    "\\qquad i=1,2,\\cdots, n\n",
    "$$\n",
    "\n",
    "where $p_i\\equiv \\partial L/\\partial \\dot q_i$ and $F_i = -\\partial U/\\partial q_i$, for the case where the kinetic energy $T$ does not depend explicitly on $q$."
   ]
  },
  {
   "cell_type": "markdown",
   "metadata": {},
   "source": [
    "### 4) Define the action in terms of the Lagrangian, and derive Lagrange's equations starting from the action.\n",
    "\n",
    "Action:\n",
    "\n",
    "$$\n",
    "S[q] \\equiv \\int_{t_1}^{t_2} dt\\> L(q,\\dot q, t) \n",
    "$$\n",
    "\n",
    "Lagrange's equations are obtained by setting $\\delta S=0$ for variations $\\delta q$ that vanish at the end points $t_1$ and $t_2$.  \n",
    "\n",
    "The following derivation is for a single degree of freedom. For multiple degrees of freedom, we should vary each $q_i(t)$, $i=1,2,\\cdots, n$ independently.\n",
    "\n",
    "Derivation:\n",
    "\n",
    "$$\n",
    "\\delta S \n",
    "= \\int_{t_1}^{t_2} dt\\> \\left[\n",
    "\\frac{\\partial L}{\\partial q}\\delta q +\n",
    "\\frac{\\partial L}{\\partial \\dot q}\\delta \\dot q\\right]\n",
    "$$\n",
    "\n",
    "Integrate the second term by parts using \n",
    "\n",
    "$$\n",
    "\\delta \\dot q \\equiv \n",
    "\\delta\\left(\\frac{d q}{d t}\\right) \n",
    "= \\frac{d}{dt}\\delta q\n",
    "$$\n",
    "\n",
    "obtaining\n",
    "\n",
    "$$\n",
    "\\delta S \n",
    "= \\int_{t_1}^{t_2} dt\\> \\left[\n",
    "\\frac{\\partial L}{\\partial q}\n",
    "-\\frac{d}{dt}\\left(\\frac{\\partial L}{\\partial \\dot q}\\right)\\right] \\delta q\n",
    "+ \\frac{\\partial L}{\\partial\\dot q}\\delta q\\bigg|_{t_2}\n",
    "- \\frac{\\partial L}{\\partial\\dot q}\\delta q\\bigg|_{t_1}\n",
    "$$\n",
    "\n",
    "The last two terms vanish given the condition that the variations $\\delta q$ vanish at $t_1$ and $t_2$.  Since $\\delta q$ is arbitrary, setting $\\delta S=0$ is equivalent to the integrand vanishing:\n",
    "\n",
    "$$\n",
    "\\frac{\\partial L}{\\partial q}-\\frac{d}{dt}\\left(\\frac{\\partial L}{\\partial \\dot q}\\right) = 0\n",
    "$$"
   ]
  },
  {
   "cell_type": "markdown",
   "metadata": {},
   "source": [
    "### 5) Show that Lagrange's equations are unchanged if one adds a total time derivative $df(q,t)/dt$ to $L$.\n",
    "\n",
    "Define\n",
    "\n",
    "$$\n",
    "\\bar{L}(q,\\dot q,t) \\equiv L(q,\\dot q, t) + \\frac{df(q,t)}{dt}\n",
    "$$\n",
    "\n",
    "Then\n",
    "\n",
    "$$\n",
    "\\bar{S}[q] \\equiv \\int_{t_1}^{t_2} dt\\> \\bar{L}(q,\\dot q, t) \n",
    "= S[q] + f(q,t)\\big|_{t_2} - f(q,t)\\big|_{t_1}\n",
    "$$\n",
    "\n",
    "From this we see that $\\delta \\bar{S}=\\delta S$, since $\\delta q|_{t_1}=0$ and $\\delta q|_{t_2}=0$.  So the EOMs from $L$ and $\\bar{L}\\equiv L + df(q,t)/dt$ are the same.\n",
    "\n",
    "Note: one can obtain the same result by working directly with Lagrange's equations for $L$ and $\\bar L$."
   ]
  },
  {
   "cell_type": "markdown",
   "metadata": {},
   "source": [
    "### 6) Include holonomic and non-holonomic constraint forces in the Lagrangian formalism by introducing Lagrange multipliers.\n",
    "\n",
    "(i) Holonomic constraints are relationships between the generalized coordinates and possibly time\n",
    "\n",
    "$$\n",
    "\\varphi_\\alpha(q,t)=0\\,,\n",
    "\\qquad \\alpha=1,2,\\cdots,m\n",
    "$$\n",
    "\n",
    "where $\\alpha$ labels the different constraints. Such constraints can be included in the Lagrangian formalism\n",
    "by adding to the Lagrangian a term of the form $\\sum_\\alpha \\lambda_\\alpha(t) \\varphi_\\alpha(q,t)$, where $\\lambda_\\alpha(t)$ are the so-called Lagrange multipliers.  The modified equations of motions are then\n",
    "\n",
    "$$\n",
    "\\frac{d}{dt}\\left(\\frac{\\partial L}{\\partial \\dot q_i}\\right)\n",
    "= \\frac{\\partial L}{\\partial q_i} + \\sum_\\alpha\n",
    "\\lambda_\\alpha\\frac{\\partial\\varphi_\\alpha}{\\partial q_i}\\,,\n",
    "\\qquad i = 1,2,\\cdots, n\n",
    "$$\n",
    "\n",
    "Together with the constraint equations, these are $n+m$ equations for the $n+m$ unknowns $q_i$ and $\\lambda_\\alpha$.\n",
    "Note that the generalized constraint force $\\sum_\\alpha \\lambda_\\alpha (\\partial \\varphi_\\alpha/\\partial q_i)$ is\n",
    "orthogonal to the constraint surface.\n",
    "\n",
    "(ii) Non-holonomic constraints are relationships between the coordinate differentials \n",
    "\n",
    "$$\n",
    "\\sum_i c_{\\alpha i}\\,\\delta q_i = 0\\,,\n",
    "\\qquad \\alpha = 1,2,\\cdots, m\n",
    "$$\n",
    "\n",
    "that cannot be integrated to yield relations between just the generalized coordinates. Such constraints can be included in the Lagrangian formalism at the level of the variation of the action. The modified equations of motion are\n",
    "\n",
    "$$\n",
    "\\frac{d}{dt}\\left(\\frac{\\partial L}{\\partial \\dot q_i}\\right)\n",
    "= \\frac{\\partial L}{\\partial q_i} +\n",
    "\\sum_\\alpha \\lambda_\\alpha c_{\\alpha i}\\,,\n",
    "\\qquad i=1,2,\\cdots, n\n",
    "$$\n",
    "\n",
    "where $\\lambda_\\alpha(t)$ are Lagrange multipliers. Together with the constraint equations, these are $n+m$ equations \n",
    "for the $n+m$ unknowns $q_i$ and $\\lambda_\\alpha$.\n",
    "\n",
    "Examples of non-holonomic constraints include dissipative forces like friction, and the reaction force for a \n",
    "sphere that rolls without slipping or pivoting on a horizontal surface:\n",
    "\n",
    "$$\n",
    "{\\bf V} - {\\bf\\Omega}\\times(a\\hat{\\bf n}) = 0\n",
    "$$\n",
    "\n",
    "where $\\bf V$ is the velocity of the COM of the sphere of radius $a$, $\\bf\\Omega$ is the angular velocity vector,\n",
    "and $\\hat{\\bf n}$ is a unit vector normal to the surface."
   ]
  },
  {
   "cell_type": "markdown",
   "metadata": {},
   "source": [
    "### 7) Define and give examples of a closed system, constant external field, and uniform field.\n",
    "\n",
    "(i) Closed system:\n",
    "The potential $U$ is a function of only the relative position vectors ${\\bf r}_1-{\\bf r}_2$, etc. \n",
    "\n",
    "(ii) Constant external field:\n",
    "The potential $U \\equiv U({\\bf r}_1, {\\bf r}_2, \\cdots, {\\bf r}_N)$ has no explicit time dependence\n",
    "\n",
    "(iii) Uniform field:\n",
    "The potential $U = -\\sum_a {\\bf F}_a\\cdot {\\bf r}_a$, where ${\\bf F}_a$ is independent of ${\\bf r}_1$, ${\\bf r}_2$, etc. Thus, $-\\partial U/\\partial{\\bf r}_a= {\\bf F}_a$ has no position dependence."
   ]
  },
  {
   "cell_type": "markdown",
   "metadata": {},
   "source": [
    "# 2. Non-inertial reference frames (39)"
   ]
  },
  {
   "cell_type": "markdown",
   "metadata": {},
   "source": [
    "### 1) Write down the relationship between velocity vectors in inertial and non-inertial reference frames.\n",
    "\n",
    "<img src=\"img/noninertial.pdf\" width=\"400\">\n",
    "\n",
    "The velocity of mass $m$ wrt to the inertial frame $K_0$ is given by\n",
    "\n",
    "$$\n",
    "{\\bf v}_0 \n",
    "\\equiv \\dot{\\bf r}_0\n",
    "= {\\bf V} + {\\bf v} + {\\bf\\Omega}\\times{\\bf r}\n",
    "$$\n",
    "\n",
    "where ${\\bf V}\\equiv\\dot{\\bf R}$ is the velocity of the origin $O$\n",
    "wrt to the inertial frame, and \n",
    "$\\bf v$ is the velocity of $m$ wrt the non-inertial frame $K$."
   ]
  },
  {
   "cell_type": "markdown",
   "metadata": {},
   "source": [
    "### 2) Distinguish non-inertial reference frames associated with translational and rotational motion.\n",
    "\n",
    "(i) A non-inertial reference frame associated with translational motion would need to have a non-zero linear acceleration ${\\bf W} \\equiv \\dot{\\bf V}=\\ddot{\\bf R}$.\n",
    "\n",
    "(ii) A non-inertial reference frame associate with rotational motion only needs to have a non-zero angular velocity $\\bf \\Omega$.  A non-zero angular acceleration $\\dot{\\bf\\Omega}$ is not required."
   ]
  },
  {
   "cell_type": "markdown",
   "metadata": {},
   "source": [
    "### 3) Give examples of the Coriolis, centrifugal, translational acceleration, and rotational acceleration fictitious force terms.\n",
    "\n",
    "Newton's 2nd law in a non-inertial reference frame:\n",
    "\n",
    "$$\n",
    "m{\\bf a} = {\\bf F} - m{\\bf W}-m\\dot{\\bf\\Omega}\\times{\\bf r} - 2m{\\bf\\Omega}\\times{\\bf v} - m{\\bf\\Omega}\\times({\\bf\\Omega\\times{\\bf r}})\n",
    "$$\n",
    "\n",
    "The fictitious forces terms on the RHS are associated with translational acceleration, rotational acceleration, Coriolis, and centrifugal forces."
   ]
  },
  {
   "cell_type": "markdown",
   "metadata": {},
   "source": [
    "### 4) Explain the physical significance of Foucault's pendulum.\n",
    "\n",
    "The precession of the plane of oscillation of Foucault's pendulum is proof that a lab attached to the surface of the Earth is a non-inertial reference frame.  \n",
    "\n",
    "<img src=\"img/foucault_precession.pdf\" width=\"600\">\n",
    "\n",
    "The main contribution to the precession comes from Earth's daily rotational motion.  One solves \n",
    "\n",
    "$$\n",
    "m{\\bf a} = {\\bf T}+ m{\\bf g} - 2m{\\bf\\Omega}\\times{\\bf v}\n",
    "$$\n",
    "\n",
    "for the motion of the pendulum bob in the $xy$-plane, ignoring any motion in the vertical direction.  \n",
    "\n",
    "Code for producing the precessional motion is given below."
   ]
  },
  {
   "cell_type": "code",
   "execution_count": 3,
   "metadata": {},
   "outputs": [
    {
     "name": "stdout",
     "output_type": "stream",
     "text": [
      "T = 2198.6568517060523 sec\n"
     ]
    },
    {
     "data": {
      "text/plain": [
       "Text(0.5, 1.0, 'Foucault pendulum: precession of plane of oscillation')"
      ]
     },
     "execution_count": 3,
     "metadata": {},
     "output_type": "execute_result"
    },
    {
     "data": {
      "image/png": "[encoded data removed]",
      "text/plain": [
       "<Figure size 600x400 with 1 Axes>"
      ]
     },
     "metadata": {
      "image/png": {
       "height": 383,
       "width": 542
      },
      "needs_background": "light"
     },
     "output_type": "display_data"
    }
   ],
   "source": [
    "# Foucault pendulum analysis\n",
    "\n",
    "# some constants\n",
    "T_day = 24*3660 #s\n",
    "D = 1 # m\n",
    "g = 9.8 # m/s\n",
    "L = 30 # m\n",
    "lat = 49 # degree (Paris)\n",
    "theta = 90-lat # degree\n",
    "\n",
    "# angular frequency of oscillation\n",
    "# NOTE: reduced by a factor of 200 so that one can easily see precession after a few oscillations\n",
    "w = np.sqrt(g/L) * (1/200)\n",
    "T = 2*np.pi/w # period\n",
    "print('T =', T, 'sec')\n",
    "Nt = 10000\n",
    "t = np.linspace(0, 3*T, Nt)\n",
    "\n",
    "# angular velocity\n",
    "Omega = 2*np.pi/T_day\n",
    "Omega_z = Omega*np.cos(np.deg2rad(theta))\n",
    "\n",
    "# solution\n",
    "x = D*( np.cos(Omega_z*t)*np.cos(w*t) + (Omega_z/w)*np.sin(Omega_z*t)*np.sin(w*t) )\n",
    "y = D*(-np.sin(Omega_z*t)*np.cos(w*t) + (Omega_z/w)*np.cos(Omega_z*t)*np.sin(w*t) )\n",
    "\n",
    "# plot trajectory in x-y plane\n",
    "plt.figure()\n",
    "plt.plot(x, y)\n",
    "#plt.axis('equal')\n",
    "plt.xlim(-1.2, 1.2)\n",
    "plt.ylim(-1.2, 1.2)\n",
    "plt.axis('equal')\n",
    "plt.xlabel('x [m]')\n",
    "plt.ylabel('y [m]')\n",
    "plt.title('Foucault pendulum: precession of plane of oscillation')"
   ]
  },
  {
   "cell_type": "markdown",
   "metadata": {},
   "source": [
    "# 3. Hamiltonian mechanics (40)"
   ]
  },
  {
   "cell_type": "markdown",
   "metadata": {},
   "source": [
    "### 1) Write down the Hamiltonian $H(p,q,t)$ for a simple system starting from a Lagrangian $L(q,\\dot q,t)$.\n",
    "\n",
    "General relationship:\n",
    "\n",
    "$$\n",
    "H(p,q,t) = \\sum_i p_i \\dot q_i - L(q,\\dot q,t)\n",
    "$$\n",
    "where on the RHS all of the $\\dot q_i=q_i(q,p,t)$.\n",
    "\n",
    "1-d example:\n",
    "\n",
    "$$\n",
    "L(x,\\dot x,t) = \\frac{1}{2} m\\dot x{}^2 - U(x)\n",
    "$$\n",
    "\n",
    "has\n",
    "\n",
    "$$\n",
    "p \\equiv \\frac{\\partial L}{\\partial \\dot x} = m \\dot x\n",
    "$$\n",
    "\n",
    "leading to \n",
    "\n",
    "$$\n",
    "H(p,x,t) = \\frac{p^2}{2m} + U(x)\n",
    "$$"
   ]
  },
  {
   "cell_type": "markdown",
   "metadata": {},
   "source": [
    "### 2) Write down Hamilton's equations for $p_i$ and $q_i$.\n",
    "\n",
    "EOMs:\n",
    "\n",
    "$$\n",
    "\\dot q_i = \\frac{\\partial H}{\\partial p_i}\\,,\n",
    "\\qquad\n",
    "\\dot p_i = -\\frac{\\partial H}{\\partial q_i}\\,,\n",
    "\\qquad\n",
    "i=1,2,\\cdots, n\n",
    "$$"
   ]
  },
  {
   "cell_type": "markdown",
   "metadata": {},
   "source": [
    "### 3) Explain the fundamental difference between Hamilton's equations and Lagrange's equations.\n",
    "\n",
    "Hamilton's equations are $2n$ first-order differential equations for $q_i$, $p_i$, while Lagrange's equationis are $n$ second-order equations for the $q_i$."
   ]
  },
  {
   "cell_type": "markdown",
   "metadata": {},
   "source": [
    "### 4) Show the equivalence of Hamilton's equations and Lagrange's equation for simple systems.\n",
    "\n",
    "For the above 1-d Lagrangian and Hamiltonian we have:\n",
    "\n",
    "Lagrange's equation:\n",
    "\n",
    "$$\n",
    "\\frac{d}{dt}\\left(\\frac{\\partial L}{\\partial \\dot x}\\right) = \n",
    "\\frac{\\partial L}{\\partial x}\n",
    "\\quad\n",
    "\\Rightarrow\n",
    "\\quad\n",
    "m\\ddot x = -\\frac{dU}{dx}\n",
    "$$\n",
    "\n",
    "Hamilton's equations:\n",
    "\n",
    "$$\n",
    "\\dot x = \\frac{\\partial H}{\\partial p} = \\frac{p}{m}\\,,\n",
    "\\qquad\n",
    "\\dot p = -\\frac{\\partial H}{\\partial x} = -\\frac{dU}{dx}\n",
    "$$\n",
    "\n",
    "Solving the first of Hamilton's equations for $p$, and then substituting this solution into the second equation yields:\n",
    "\n",
    "$$\n",
    "m\\ddot x = -\\frac{dU}{dx}\n",
    "$$\n",
    "\n",
    "which is the same as Lagrange's equation."
   ]
  },
  {
   "cell_type": "markdown",
   "metadata": {},
   "source": [
    "# 4. Conservation laws (6-10)"
   ]
  },
  {
   "cell_type": "markdown",
   "metadata": {},
   "source": [
    "### 1) Show how conservation of energy, momentum, and angular momentum are connected to time translation, space translation, and rotational symmetry, respectively.\n",
    "\n",
    "Symmetry of the Lagrangian means that $\\delta L=0$ under a transformation of time, space, ...\n",
    "\n",
    "(i) Time translation symmetry: \n",
    "\n",
    "$$\n",
    "t\\rightarrow t+\\delta t\n",
    "$$\n",
    "\n",
    "for which\n",
    "\n",
    "$$\n",
    "L \\rightarrow L+ \\frac{\\partial L}{\\partial t}\\delta t\n",
    "$$\n",
    "\n",
    "Then $\\delta L=0$ for all $\\delta t$ implies\n",
    "\n",
    "$$\n",
    "0 = \\frac{\\partial L}{\\partial t} \n",
    "= \\frac{dL}{dt} - \n",
    "\\sum_i\\left(\\frac{\\partial L}{\\partial q_i}\\dot q_i + \\frac{\\partial L}{\\partial \\dot q_i}\\ddot q_i\\right)\n",
    "$$\n",
    "\n",
    "Using Lagrange's equation, we can replace $\\partial L/\\partial q_i$ by\n",
    "${d}/{dt}\\left({\\partial L}/{\\partial\\dot q_i}\\right)$\n",
    "for which\n",
    "\n",
    "$$\n",
    "0 = \\frac{dL}{dt} - \n",
    "\\sum_i\\left[\\frac{d}{dt}\\left(\\frac{\\partial L}{\\partial\\dot q_i}\\right)\\dot q_i\n",
    "+ \\frac{\\partial L}{\\partial \\dot q_i}\\ddot q_i\\right]\n",
    "= \\frac{dL}{dt} - \n",
    "\\sum_i \\frac{d}{dt}\\left(\\frac{\\partial L}{\\partial\\dot q_i}\\dot q_i\\right)\n",
    "= -\\frac{d}{dt}\\left(\\sum_i\\frac{\\partial L}{\\partial\\dot q_i}\\dot q_i - L \\right)\n",
    "$$\n",
    "\n",
    "Thus,\n",
    "\n",
    "$$\n",
    "E\\equiv \\sum_i\\frac{\\partial L}{\\partial\\dot q_i}\\dot q_i - L = {\\rm const}\n",
    "$$\n",
    "\n",
    "This is conservation of energy.\n",
    "\n",
    "(ii) Space translation symmetry:\n",
    "\n",
    "$$\n",
    "{\\bf r}_a \\rightarrow {\\bf r}_a + \\delta{\\bf x}\n",
    "$$\n",
    "\n",
    "for which\n",
    "\n",
    "$$\n",
    "L \\rightarrow L+ \\sum_a\\frac{\\partial L}{\\partial{\\bf r}_a}\\cdot \\delta{\\bf x}\n",
    "$$\n",
    "\n",
    "Then $\\delta L=0$ for all $\\delta{\\bf x}$ implies\n",
    "\n",
    "$$\n",
    "0 = \\sum_a\\frac{\\partial L}{\\partial{\\bf r}_a}\n",
    "=\\sum_a\\frac{d}{dt}\\left(\\frac{\\partial L}{\\partial\\dot{\\bf r}_a}\\right)\n",
    "= \\frac{d}{dt}\\left(\\sum_a \\frac{\\partial L}{\\partial\\dot{\\bf r}_a}\\right)\n",
    "$$\n",
    "\n",
    "where the second equality follows from Lagrange's equations.\n",
    "\n",
    "Thus,\n",
    "\n",
    "$$\n",
    "{\\bf P}_a \\equiv \n",
    "\\sum_a \\frac{\\partial L}{\\partial\\dot{\\bf r}_a} \n",
    "= \\sum_a {\\bf p}_a = {\\rm const}\n",
    "$$\n",
    "\n",
    "This is conservation of total linear momentum.\n",
    "\n",
    "(iii) Rotational symmetry:\n",
    "\n",
    "$$\n",
    "{\\bf r}_a \\rightarrow {\\bf r}_a + \\delta{\\boldsymbol\\phi}\\times {\\bf r}_a\\,,\n",
    "\\qquad\n",
    "\\dot{\\bf r}_a \\rightarrow \\dot{\\bf r}_a + \\delta{\\boldsymbol\\phi}\\times \\dot{\\bf r}_a\\\n",
    "$$\n",
    "\n",
    "for which\n",
    "\n",
    "$$\n",
    "L \\rightarrow L+ \\sum_a\\left(\n",
    "\\frac{\\partial L}{\\partial{\\bf r}_a}\\cdot\\left(\\delta{\\boldsymbol\\phi}\\times {\\bf r}_a\\right)+\n",
    "\\frac{\\partial L}{\\partial\\dot{\\bf r}_a}\\cdot\\left(\\delta{\\boldsymbol\\phi}\\times \\dot{\\bf r}_a\\right)\\right)\n",
    "= L + \n",
    "\\delta{\\boldsymbol\\phi}\\cdot\\sum_a\\left(\n",
    "{\\bf r}_a\\times \\frac{\\partial L}{\\partial{\\bf r}_a}\n",
    "+\\dot{\\bf r}_a\\times \\frac{\\partial L}{\\partial\\dot{\\bf r}_a}\\right)\n",
    "$$\n",
    "\n",
    "Then $\\delta L=0$ for all $\\delta{\\boldsymbol\\phi}$ implies\n",
    "\n",
    "$$\n",
    "0 =\n",
    "\\sum_a\\left(\n",
    "{\\bf r}_a\\times \\frac{\\partial L}{\\partial{\\bf r}_a}\n",
    "+\\dot{\\bf r}_a\\times \\frac{\\partial L}{\\partial\\dot{\\bf r}_a}\\right)\n",
    "=\n",
    "\\sum_a\\left(\n",
    "{\\bf r}_a\\times \\frac{d}{dt}\\left(\\frac{\\partial L}{\\partial\\dot{\\bf r}_a}\\right)\n",
    "+\\dot{\\bf r}_a\\times \\frac{\\partial L}{\\partial\\dot{\\bf r}_a}\\right)\n",
    "=\\frac{d}{dt}\\left(\n",
    "\\sum_a{\\bf r}_a\\times\\frac{\\partial L}{\\partial\\dot{\\bf r}_a}\\right)\n",
    "$$\n",
    "\n",
    "where the second equality follows from Lagrange's equations.\n",
    "\n",
    "Thus,\n",
    "\n",
    "$$\n",
    "{\\bf M}_a \\equiv\n",
    "\\sum_a{\\bf r}_a\\times\\frac{\\partial L}{\\partial\\dot{\\bf r}_a}\n",
    "= \\sum_a {\\bf r}_a\\times{\\bf p}_a\n",
    "= {\\rm const}\n",
    "$$\n",
    "\n",
    "This is conservation of total angular momentum."
   ]
  },
  {
   "cell_type": "markdown",
   "metadata": {},
   "source": [
    "### 2) Write down the general expression for the energy function $E$.\n",
    "\n",
    "$$\n",
    "E\\equiv \\sum_i \\frac{\\partial L}{\\partial\\dot q_i} \\dot q_i - L(q,\\dot q,t)\n",
    "$$"
   ]
  },
  {
   "cell_type": "markdown",
   "metadata": {},
   "source": [
    "### 3) Explain what it means for a function to be a homogeneous function of degree $k$.\n",
    "\n",
    "A function $f(x_1,x_2,\\cdots x_n)$ is homogeneous of degree $k$ if\n",
    "\n",
    "$$\n",
    "f(\\alpha x_1, \\alpha x_2, \\cdots, \\alpha x_n) = \\alpha^k f(x_1,x_2,\\cdots, x_n)\n",
    "$$\n",
    "\n",
    "For such a function\n",
    "\n",
    "$$\n",
    "\\sum_i\\frac{\\partial f}{\\partial x_i} x_i= k f(x_1,x_2,\\cdots,x_n)\n",
    "$$\n",
    "\n",
    "Example: the kinetic energy \n",
    "\n",
    "$$\n",
    "T = \\frac{1}{2}\\sum_{ik} a_{ik}(q)\\dot q_i \\dot q^k\n",
    "$$\n",
    "\n",
    "is homogeneous of degree 2 in the generalized velocities $\\dot q_i$, so that\n",
    "\n",
    "$$\n",
    "\\sum_i\\frac{\\partial T}{\\partial \\dot q_i} \\dot q_i= 2 T\n",
    "$$"
   ]
  },
  {
   "cell_type": "markdown",
   "metadata": {},
   "source": [
    "### 4) Write down the expression for the generalized momentum $p_i$.\n",
    "\n",
    "$$\n",
    "p_i \\equiv \\frac{\\partial L}{\\partial q_i}\\,,\n",
    "\\qquad\n",
    "i=1,2,\\cdots, n\n",
    "$$"
   ]
  },
  {
   "cell_type": "markdown",
   "metadata": {},
   "source": [
    "### 5) Write down the expression for the center of mass (COM) of a system of particles.\n",
    "\n",
    "COM:\n",
    "\n",
    "$$\n",
    "{\\bf R}_a = \\frac{\\sum_a m_a{\\bf r_a}}{\\sum_b m_b}\n",
    "$$"
   ]
  },
  {
   "cell_type": "markdown",
   "metadata": {},
   "source": [
    "### 6) Write down the virial theorem for a system whose motion takes place in a finite region of space and whose potential energy is a homogoneous function of degree $k$ in the coordinates.\n",
    "\n",
    "Recall that the virial theorem relates the time-averaged KE to the time-averaged potential energy.\n",
    "\n",
    "For Newtonian gravity, with a mass $m$ in circular orbit of radius $r$ about a fixed mass $M$:\n",
    "\n",
    "$$\n",
    "\\frac{G Mm}{r^2} = \\frac{mv^2}{r}\n",
    "$$\n",
    "\n",
    "which implies \n",
    "\n",
    "$$\n",
    "U = -\\frac{GMm}{r} = -m v^2 = -2T\n",
    "$$\n",
    "\n",
    "In general, for a potential that is homogeneous of degree $k$:\n",
    "\n",
    "$$ \n",
    "k\\langle U\\rangle = 2\\langle T\\rangle \n",
    "$$\n",
    "\n",
    "where angle bracket means time average:\n",
    "\n",
    "$$\n",
    "\\langle f\\rangle \\equiv \\lim_{\\tau\\rightarrow\\infty}\\, \\frac{1}{\\tau}\\int_0^\\tau dt\\> f(t)\n",
    "$$\n",
    "\n",
    "For Newtonian gravity, the potential $U=-\\alpha/r$ is homogeneous of degree $k=-1$.\n",
    "\n",
    "\n",
    "**Proof:**\n",
    "\n",
    "If $U$ is homogeneous of degree $k$, then\n",
    "\n",
    "$$\n",
    "\\sum_a\\frac{\\partial U}{\\partial{\\bf r}_a}\\cdot {\\bf r}_a = k U\n",
    "$$\n",
    "\n",
    "The LHS of the above equation can be written as\n",
    "\n",
    "$$\n",
    "\\sum_a\\frac{\\partial U}{\\partial{\\bf r}_a}\\cdot {\\bf r}_a\n",
    "=-\\sum_a\\dot{\\bf p}_a\\cdot{\\bf r}_a\n",
    "=-\\frac{d}{dt}\\left(\\sum_a {\\bf p}_a\\cdot{\\bf r}_a\\right)\n",
    "+ \\sum_a {\\bf p}_a\\cdot \\dot{\\bf r}_a\n",
    "$$\n",
    "\n",
    "where the first equality follows from Lagrange's equations and the second equality follows from the product rule.\n",
    "\n",
    "Thus,\n",
    "\n",
    "$$\n",
    "k U = -\\frac{d}{dt}\\left(\\sum_a {\\bf p}_a\\cdot{\\bf r}_a\\right)\n",
    "+ \\sum_a {\\bf p}_a\\cdot \\dot{\\bf r}_a\n",
    "$$\n",
    "\n",
    "The last term equals twice the kinetic energy $T$ since ${\\bf p}_a = m_a\\dot{\\bf r}_a$, and the first term vanishes if we take the time average, assuming that the motion is bounded.  Thus, \n",
    "\n",
    "$$\n",
    "k\\langle U\\rangle = 2\\langle T\\rangle\n",
    "$$\n",
    "\n",
    "as claimed."
   ]
  },
  {
   "cell_type": "markdown",
   "metadata": {},
   "source": [
    "# 5. Central force motion (11, 13-15)"
   ]
  },
  {
   "cell_type": "markdown",
   "metadata": {},
   "source": [
    "### 1) Write down an integral expression for $t$ for 1-d motion in a fixed external field $U(x)$.\n",
    "\n",
    "Conservation of energy:\n",
    "\n",
    "$$\n",
    "\\frac{1}{2} m \\dot x^2 + U(x) = E = {\\rm const}\n",
    "$$\n",
    "\n",
    "This is a separable differential equation with\n",
    "\n",
    "$$\n",
    "t = \\int \\frac{dx}{\\sqrt{\\frac{2}{m}(E-U(x))}} + {\\rm const}\n",
    "$$"
   ]
  },
  {
   "cell_type": "markdown",
   "metadata": {},
   "source": [
    "### 2) Determine the allowed values of the energy and turning points for 1-d motion in a fixed external field.\n",
    "\n",
    "Allowed values of the energy: \n",
    "\n",
    "$$\n",
    "E \\ge U_{\\rm min}\n",
    "$$\n",
    "\n",
    "since kinetic energy is positive.\n",
    "\n",
    "Turning points are solutions to the equation $E-U(x)=0$."
   ]
  },
  {
   "cell_type": "markdown",
   "metadata": {},
   "source": [
    "### 3) Transform the problem of two interacting particles into an effective one-body problem by working in the COM frame.\n",
    "\n",
    "Lagrangian for two interacting particles:\n",
    "\n",
    "$$\n",
    "L = T - U = \n",
    "\\frac{1}{2}m_1|\\dot{\\bf r}_1|^2 +\n",
    "\\frac{1}{2}m_2|\\dot{\\bf r}_2|^2 - U({\\bf r}_1-{\\bf r}_2)\n",
    "$$\n",
    "\n",
    "Total momentum in conserved since $L$ is unchanged by a spatial translation\n",
    "${\\bf r}_a\\rightarrow {\\bf r}_a + \\delta{\\bf x}$.\n",
    "Thus, we can work in the COM frame where the COM is the origin of coordinates:\n",
    "\n",
    "$$\n",
    "m_1{\\bf r}_1 + m_2{\\bf r}_2 = 0\n",
    "$$\n",
    "\n",
    "In terms of the relative separation vector\n",
    "\n",
    "$$\n",
    "{\\bf r}\\equiv {\\bf r}_1 - {\\bf r_2}\n",
    "$$\n",
    "\n",
    "we have\n",
    "\n",
    "$$\n",
    "{\\bf r}_1 = \\frac{m_2}{m_1 + m_2}{\\bf r}\\,,\n",
    "\\qquad\n",
    "{\\bf r}_2 = -\\frac{m_1}{m_1 + m_2}{\\bf r}\n",
    "$$\n",
    "\n",
    "The kinetic energy becomes\n",
    "\n",
    "$$\n",
    "T = \\frac{1}{2}m |\\dot{\\bf r}|^2\n",
    "$$\n",
    "\n",
    "where\n",
    "\n",
    "$$\n",
    "m \\equiv \\frac{m_1 m_2}{m_1+m_2}\n",
    "$$\n",
    "\n",
    "is the reduced mass.  Thus,\n",
    "\n",
    "$$\n",
    "L = \\frac{1}{2}m|\\dot{\\bf r}|^2- U({\\bf r})\n",
    "$$"
   ]
  },
  {
   "cell_type": "markdown",
   "metadata": {},
   "source": [
    "### 4) Show that both energy and angular momentum are conserved for a central potential.\n",
    "\n",
    "For a central potential, $U$ depends only on the magnitude of the relative separation vector\n",
    "\n",
    "$$\n",
    "U = U(|{\\bf r}_1-{\\bf r}_2|) = U(r)\n",
    "$$\n",
    "\n",
    "Energy \n",
    "\n",
    "$$\n",
    "E = \\frac{\\partial L}{\\partial\\dot{\\bf r}}\\cdot\\dot{\\bf r} - L\n",
    "= \\frac{1}{2}m|\\dot{\\bf r}|^2+ U(r)\n",
    "$$\n",
    "\n",
    "is conserved since the Lagrangian does not depend explicitly on time.\n",
    "\n",
    "Angular momentum  \n",
    "\n",
    "$$\n",
    "{\\bf M} = {\\bf r}\\times{\\bf p} = m{\\bf r}\\times\\dot{\\bf r}\n",
    "$$\n",
    "\n",
    "is conserved since the Lagrangian is unchanged by a rotation \n",
    "\n",
    "$$\n",
    "{\\bf r}\\rightarrow {\\bf r} + \\delta{\\boldsymbol\\phi}\\times{\\bf r}\\,,\n",
    "\\qquad\n",
    "\\dot{\\bf r}\\rightarrow \\dot{\\bf r} + \\delta{\\boldsymbol\\phi}\\times\\dot{\\bf r}\n",
    "$$\n",
    "\n",
    "Since ${\\bf M}$ is conserved, we can choose the orientation of our COM frame such that ${\\bf M}$ points along the $z$-axis.  Then the motion is in the $zy$-plane and we can write the Lagrangian in terms of the coordinates $(r,\\phi)$ and their time derivatives:\n",
    "\n",
    "$$\n",
    "L = \\frac{1}{2}m\\left(\\dot r^2 + r^2\\dot\\phi^2\\right) - U(r)\n",
    "$$\n",
    "\n",
    "Conservation of angular momentum then manifests itself as conservation of \n",
    "\n",
    "$$\n",
    "p_\\phi \\equiv \\frac{\\partial L}{\\partial\\dot\\phi}\n",
    "$$\n",
    "\n",
    "since $L$ does not depend explicitly on $\\phi$.  Taking the derivative, we have\n",
    "\n",
    "$$\n",
    "p_\\phi = mr^2\\dot\\phi \\equiv M = {\\rm const}\n",
    "$$\n",
    "\n",
    "or, equivalently,\n",
    "\n",
    "$$\n",
    "\\dot\\phi = \\frac{M}{m r^2}\n",
    "$$"
   ]
  },
  {
   "cell_type": "markdown",
   "metadata": {},
   "source": [
    "### 5) Write down an expression for the effective potential $U_{\\rm eff}(r)$ in terms of $U(r)$ and $M$.\n",
    "\n",
    "Energy:\n",
    "\n",
    "$$\n",
    "E = \\frac{1}{2}m(\\dot r^2 + r^2\\dot\\phi^2) + U(r)\n",
    "= \\frac{1}{2}m\\dot r^2 + \\frac{M^2}{2m r^2} + U(r)\n",
    "= \\frac{1}{2}m\\dot r^2 + U_{\\rm eff}(r)\n",
    "$$\n",
    "\n",
    "with\n",
    "\n",
    "$$\n",
    "U_{\\rm eff}(r) = U(r) + \\frac{M^2}{2mr^2}\n",
    "$$"
   ]
  },
  {
   "cell_type": "markdown",
   "metadata": {},
   "source": [
    "### 6) Plot the effective potential for some simple central force potentials.\n",
    "\n",
    "Newtonian gravity: $U=-\\alpha/r$\n",
    "\n",
    "<img src=\"img/newtonian_gravity.png\" width=\"600\">\n",
    "\n",
    "3d harmonic oscillator: $U=\\alpha r^2$\n",
    "\n",
    "<img src=\"img/3d_harmonic_oscillator.png\" width=\"600\">\n",
    "\n",
    "General relativity: $U=-\\alpha/r - \\beta/r^3$\n",
    "\n",
    "<img src=\"img/general_relativity.png\" width=\"600\">\n",
    "\n",
    "The code used to produce these potentials is given below."
   ]
  },
  {
   "cell_type": "markdown",
   "metadata": {},
   "source": [
    "## Different effective potentials"
   ]
  },
  {
   "cell_type": "code",
   "execution_count": 4,
   "metadata": {},
   "outputs": [
    {
     "data": {
      "text/plain": [
       "Text(0.5, 1.0, 'Newtonian gravity')"
      ]
     },
     "execution_count": 4,
     "metadata": {},
     "output_type": "execute_result"
    },
    {
     "data": {
      "image/png": "[encoded data removed]",
      "text/plain": [
       "<Figure size 600x400 with 1 Axes>"
      ]
     },
     "metadata": {
      "image/png": {
       "height": 381,
       "width": 539
      },
      "needs_background": "light"
     },
     "output_type": "display_data"
    }
   ],
   "source": [
    "# kepler effective potential\n",
    "eps = 1e-4\n",
    "r = np.linspace(eps, 5, 1000)\n",
    "\n",
    "U = -3./r\n",
    "Ueff = U + 1./r**2\n",
    "\n",
    "plt.figure()\n",
    "plt.plot(r, Ueff)\n",
    "plt.axhline(y=0, color='k')\n",
    "plt.xlim((0.05, 4))\n",
    "plt.ylim((-4,4))\n",
    "plt.xlabel('$r$')\n",
    "plt.ylabel('$U_{\\mathrm{eff}}$')\n",
    "plt.title('Newtonian gravity')\n",
    "#plt.savefig('newtonian_gravity')"
   ]
  },
  {
   "cell_type": "code",
   "execution_count": 5,
   "metadata": {},
   "outputs": [
    {
     "data": {
      "text/plain": [
       "Text(0.5, 1.0, '3d harmonic oscillator')"
      ]
     },
     "execution_count": 5,
     "metadata": {},
     "output_type": "execute_result"
    },
    {
     "data": {
      "image/png": "[encoded data removed]",
      "text/plain": [
       "<Figure size 600x400 with 1 Axes>"
      ]
     },
     "metadata": {
      "image/png": {
       "height": 381,
       "width": 535
      },
      "needs_background": "light"
     },
     "output_type": "display_data"
    }
   ],
   "source": [
    "# 3d harmonic oscillator effective potential\n",
    "eps = 1e-4\n",
    "r = np.linspace(eps, 5, 1000)\n",
    "\n",
    "U = r**2\n",
    "Ueff = U + 1./r**2\n",
    "\n",
    "plt.figure()\n",
    "plt.plot(r, Ueff)\n",
    "plt.axhline(y=0, color='k')\n",
    "plt.xlim((0.05, 4))\n",
    "plt.ylim((-1,10))\n",
    "plt.xlabel('$r$')\n",
    "plt.ylabel('$U_{\\mathrm{eff}}$')\n",
    "plt.title('3d harmonic oscillator')\n",
    "#plt.savefig('3d_harmonic_oscillator')"
   ]
  },
  {
   "cell_type": "code",
   "execution_count": 6,
   "metadata": {},
   "outputs": [
    {
     "data": {
      "text/plain": [
       "Text(0.5, 1.0, 'General relativity')"
      ]
     },
     "execution_count": 6,
     "metadata": {},
     "output_type": "execute_result"
    },
    {
     "data": {
      "image/png": "[encoded data removed]",
      "text/plain": [
       "<Figure size 600x400 with 1 Axes>"
      ]
     },
     "metadata": {
      "image/png": {
       "height": 381,
       "width": 542
      },
      "needs_background": "light"
     },
     "output_type": "display_data"
    }
   ],
   "source": [
    "# GR effective potential\n",
    "eps = 1e-4\n",
    "r = np.linspace(eps, 5, 1000)\n",
    "\n",
    "U1 = -3./r\n",
    "U2 = -0.08/r**3\n",
    "Ueff = U1 + U2 + 1./r**2\n",
    "\n",
    "plt.figure()\n",
    "plt.plot(r, Ueff)\n",
    "plt.axhline(y=0, color='k')\n",
    "plt.xlim((0.1, 2))\n",
    "plt.ylim((-4,2))\n",
    "plt.xlabel('$r$')\n",
    "plt.ylabel('$U_{\\mathrm{eff}}$')\n",
    "plt.title('General relativity')\n",
    "#plt.savefig('general_relativity_2')"
   ]
  },
  {
   "cell_type": "markdown",
   "metadata": {},
   "source": []
  },
  {
   "cell_type": "markdown",
   "metadata": {},
   "source": []
  },
  {
   "cell_type": "markdown",
   "metadata": {},
   "source": [
    "- From the graph of the effective potential, determine the \n",
    "different types of allowed motion.\n",
    "\n",
    "- Write down integral expressions for $t$ and $\\phi$ in terms\n",
    "of $r$ for a general central potential.\n",
    "\n",
    "- Evaluate these two integrals for Kepler's problem, using\n",
    "appropriate trig substitutions.\n",
    "\n",
    "- Derive the relationship between $E$, $\\ell$, $a$, $b$,\n",
    "$e$, and $p$ for an ellipse.\n",
    "\n",
    "- State the only two central potentials that have closed \n",
    "bound orbits.\n",
    "\n",
    "- State and derive Kepler's three laws of planetary motion.\n",
    "\n",
    "- Explain the difference in $E$ and $e$ for elliptical, parabolic,\n",
    "and hyperbolic motion."
   ]
  },
  {
   "cell_type": "markdown",
   "metadata": {},
   "source": [
    "# 6. Collisions and scattering (16-20)\n",
    "\n",
    "- Draw diagrams relating velocities in the lab and COM frames for \n",
    "the disintegration of a single particle.\n",
    "\n",
    "- Draw diagrams relating the momenta in the lab and COM frames \n",
    "for an elastic collision of two particles ($m_2$ initially at \n",
    "rest in the lab frame).\n",
    "\n",
    "- Explain what information can and cannot be provided for an \n",
    "elastic collison of two particles, just using conservation of \n",
    "momentum and conservation of kinetic energy.\n",
    "\n",
    "- Derive formulas relating the scattering angles $\\chi$,\n",
    "$\\theta_1$, $\\theta_2$ in the COM and lab frames.\n",
    "\n",
    "- Draw diagrams showing how the scattering angle $\\chi$ is \n",
    "related to the angle of closest approach $\\phi_0$.\n",
    "\n",
    "- Relate the impact parameter $\\rho$ and initial velocity \n",
    "$v_\\infty$ to the energy $E$ and angular momentum $\\ell$.\n",
    "\n",
    "- Integrate (18.4) for $\\phi_0$ for simple potentials---e.g., \n",
    "$U(r) = \\alpha/r$ for Rutherford scattering.\n",
    "\n",
    "- Write down expressions for \n",
    "${\\rm d}\\sigma$ in terms of ${\\rm d}\\rho$, ${\\rm d}\\chi$, ${\\rm d}\\theta_1$, \n",
    "${\\rm d}\\theta_2$, or ${\\rm d}\\Omega$, ${\\rm d}\\Omega_1$, ${\\rm d}\\Omega_2$.\n",
    "\n",
    "- Explain how one can obtain an expression for small-angle \n",
    "scattering starting from (18.4) for $\\phi_0$."
   ]
  },
  {
   "cell_type": "markdown",
   "metadata": {},
   "source": [
    "# 7. Small oscillations (21-23)\n",
    "\n",
    "- Explain what stable equilibrium means in terms of the \n",
    "potential energy $U(q)$.\n",
    "\n",
    "- Calculate the frequency for small oscillations about \n",
    "a position of stable equilibrium.\n",
    "\n",
    "- Solve the equations of motion for both free and \n",
    "forced oscillation in one dimension, noting the difference\n",
    "between the {\\em general solution} of the \n",
    "homogeneous equation and a {\\em particular integral} \n",
    "of the inhomogeneous equation.\n",
    " \n",
    "- Calculate the eigenfrequencies / eigenvectors for\n",
    "small oscillations of systems with more than one DOF."
   ]
  },
  {
   "cell_type": "markdown",
   "metadata": {},
   "source": [
    "# 8. Rigid body motion (31-36, 38)\n",
    "\n",
    "- Write down an expression for the components  $I_{ik}$\n",
    "of the inertia tensor as a sum over discrete mass points \n",
    "or as an integral over the volume of the body.\n",
    "\n",
    "- Obtain or identify the {\\em principal axes of\n",
    "inertia} for various rigid bodies.\n",
    "\n",
    "- Calculate the \n",
    "{\\em principal moments of inertia} for various rigid bodies.\n",
    "\n",
    "- Calculate the kinetic energy of a rigid body in terms of\n",
    "its COM motion and rotational kinetic energy.\n",
    "\n",
    "- Write down an expression for the angular \n",
    "momentum vector $\\vec M$ in terms $I_{ik}$ and ${\\Omega}_i$.\n",
    "\n",
    "- Write down the equations of motion for a rigid body with \n",
    "respect to an inertial frame.\n",
    "\n",
    "- Derive Euler's equations for rigid body motion (equations \n",
    "of motion in the body frame).\n",
    "\n",
    "- Draw a diagram showing the definition of the Euler angles\n",
    "$(\\phi,\\theta,\\psi)$.\n",
    "\n",
    "- Calculate the components of $\\boldsymbol{\\Omega}$ wrt body \n",
    "frame in terms of the Euler angles and their time derivatives."
   ]
  },
  {
   "cell_type": "markdown",
   "metadata": {},
   "source": [
    "### Write down expressions for ${\\rm d}\\sigma$ in terms of ${\\rm d}\\rho$, ${\\rm d}\\chi$, ${\\rm d}\\theta_1$,  ${\\rm d}\\theta_2$, or ${\\rm d}\\Omega$, ${\\rm d}\\Omega_1$, ${\\rm d}\\Omega_2$."
   ]
  },
  {
   "cell_type": "markdown",
   "metadata": {},
   "source": [
    "Note that \n",
    "\n",
    "$$\n",
    "\\frac{d\\sigma_1}{d\\Omega_1} = \\frac{d\\sigma}{d\\Omega}\\,\\left|\n",
    "\\frac{d(\\cos\\chi)}{d(\\cos\\theta_1)}\\right|\n",
    "$$\n",
    "\n",
    "which implies\n",
    "\n",
    "$$\n",
    "d\\sigma_1 = \\frac{d\\sigma}{d\\Omega}\\,\\left|\n",
    "\\frac{d(\\cos\\chi)}{d(\\cos\\theta_1)}\\right|\\,d\\Omega_1\n",
    "\\quad{\\rm where}\\quad\n",
    "d\\Omega_1 = 2\\pi \\sin\\theta_1\\,d\\theta_1\n",
    "$$\n",
    "\n",
    "The same applies for $d\\theta_2$, $d\\Omega_2$."
   ]
  },
  {
   "cell_type": "markdown",
   "metadata": {},
   "source": []
  },
  {
   "cell_type": "code",
   "execution_count": 7,
   "metadata": {},
   "outputs": [
    {
     "data": {
      "text/latex": [
       "$\\displaystyle \\int e^{x} \\cos{\\left(x \\right)}\\, dx = \\frac{e^{x} \\sin{\\left(x \\right)}}{2} + \\frac{e^{x} \\cos{\\left(x \\right)}}{2}$"
      ],
      "text/plain": [
       "Eq(Integral(exp(x)*cos(x), x), exp(x)*sin(x)/2 + exp(x)*cos(x)/2)"
      ]
     },
     "execution_count": 7,
     "metadata": {},
     "output_type": "execute_result"
    }
   ],
   "source": [
    "# symbolic calculation (for future reference)\n",
    "x = symbols('x')\n",
    "a = Integral(cos(x)*exp(x), x)\n",
    "Eq(a, a.doit())"
   ]
  }
 ],
 "metadata": {
  "kernelspec": {
   "display_name": "Python (symbolic)",
   "language": "python",
   "name": "symbolic"
  },
  "language_info": {
   "codemirror_mode": {
    "name": "ipython",
    "version": 3
   },
   "file_extension": ".py",
   "mimetype": "text/x-python",
   "name": "python",
   "nbconvert_exporter": "python",
   "pygments_lexer": "ipython3",
   "version": "3.7.7"
  }
 },
 "nbformat": 4,
 "nbformat_minor": 2
}
