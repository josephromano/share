{
 "cells": [
  {
   "cell_type": "code",
   "execution_count": 1,
   "metadata": {},
   "outputs": [],
   "source": [
    "%load_ext autoreload\n",
    "%autoreload 2"
   ]
  },
  {
   "cell_type": "code",
   "execution_count": 2,
   "metadata": {},
   "outputs": [],
   "source": [
    "import healpy as hp\n",
    "import numpy as np\n",
    "import matplotlib.pyplot as plt\n",
    "%matplotlib inline\n",
    "%config InlineBackend.figure_format = 'retina'\n",
    "import pickle, json\n",
    "import astropy.constants as c\n",
    "import astropy.units as u\n",
    "from mpmath import *\n",
    "from sympy import *\n",
    "import sympy\n",
    "from sympy.solvers import solve"
   ]
  },
  {
   "cell_type": "code",
   "execution_count": 3,
   "metadata": {},
   "outputs": [
    {
     "data": {
      "text/latex": [
       "$\\displaystyle \\int e^{x} \\cos{\\left(x \\right)}\\, dx = \\frac{e^{x} \\sin{\\left(x \\right)}}{2} + \\frac{e^{x} \\cos{\\left(x \\right)}}{2}$"
      ],
      "text/plain": [
       "Eq(Integral(exp(x)*cos(x), x), exp(x)*sin(x)/2 + exp(x)*cos(x)/2)"
      ]
     },
     "execution_count": 3,
     "metadata": {},
     "output_type": "execute_result"
    }
   ],
   "source": [
    "# symbolic calculation\n",
    "x = symbols('x')\n",
    "a = Integral(cos(x)*exp(x), x)\n",
    "Eq(a, a.doit())"
   ]
  },
  {
   "cell_type": "code",
   "execution_count": 4,
   "metadata": {},
   "outputs": [
    {
     "data": {
      "text/latex": [
       "$\\displaystyle - cosi h_{0} \\sin{\\left(\\phi_{0} \\right)} \\sin{\\left(2 \\psi \\right)} + 0.5 h_{0} \\left(cosi^{2} + 1\\right) \\cos{\\left(\\phi_{0} \\right)} \\cos{\\left(2 \\psi \\right)}$"
      ],
      "text/plain": [
       "-cosi*h0*sin(phi0)*sin(2*psi) + 0.5*h0*(cosi**2 + 1)*cos(phi0)*cos(2*psi)"
      ]
     },
     "metadata": {},
     "output_type": "display_data"
    },
    {
     "data": {
      "text/latex": [
       "$\\displaystyle cosi h_{0} \\sin{\\left(\\phi_{0} \\right)} \\cos{\\left(2 \\psi \\right)} + 0.5 h_{0} \\left(cosi^{2} + 1\\right) \\sin{\\left(2 \\psi \\right)} \\cos{\\left(\\phi_{0} \\right)}$"
      ],
      "text/plain": [
       "cosi*h0*sin(phi0)*cos(2*psi) + 0.5*h0*(cosi**2 + 1)*sin(2*psi)*cos(phi0)"
      ]
     },
     "metadata": {},
     "output_type": "display_data"
    },
    {
     "data": {
      "text/latex": [
       "$\\displaystyle - cosi h_{0} \\sin{\\left(2 \\psi \\right)} \\cos{\\left(\\phi_{0} \\right)} - 0.5 h_{0} \\left(cosi^{2} + 1\\right) \\sin{\\left(\\phi_{0} \\right)} \\cos{\\left(2 \\psi \\right)}$"
      ],
      "text/plain": [
       "-cosi*h0*sin(2*psi)*cos(phi0) - 0.5*h0*(cosi**2 + 1)*sin(phi0)*cos(2*psi)"
      ]
     },
     "metadata": {},
     "output_type": "display_data"
    },
    {
     "data": {
      "text/latex": [
       "$\\displaystyle cosi h_{0} \\cos{\\left(\\phi_{0} \\right)} \\cos{\\left(2 \\psi \\right)} - 0.5 h_{0} \\left(cosi^{2} + 1\\right) \\sin{\\left(\\phi_{0} \\right)} \\sin{\\left(2 \\psi \\right)}$"
      ],
      "text/plain": [
       "cosi*h0*cos(phi0)*cos(2*psi) - 0.5*h0*(cosi**2 + 1)*sin(phi0)*sin(2*psi)"
      ]
     },
     "metadata": {},
     "output_type": "display_data"
    },
    {
     "data": {
      "text/latex": [
       "$\\displaystyle \\left[\\begin{matrix}- cosi \\sin{\\left(\\phi_{0} \\right)} \\sin{\\left(2 \\psi \\right)} + \\left(0.5 cosi^{2} + 0.5\\right) \\cos{\\left(\\phi_{0} \\right)} \\cos{\\left(2 \\psi \\right)} & 1.0 cosi h_{0} \\cos{\\left(\\phi_{0} \\right)} \\cos{\\left(2 \\psi \\right)} - h_{0} \\sin{\\left(\\phi_{0} \\right)} \\sin{\\left(2 \\psi \\right)} & - 2 cosi h_{0} \\sin{\\left(\\phi_{0} \\right)} \\cos{\\left(2 \\psi \\right)} - 1.0 h_{0} \\left(cosi^{2} + 1\\right) \\sin{\\left(2 \\psi \\right)} \\cos{\\left(\\phi_{0} \\right)} & - cosi h_{0} \\sin{\\left(2 \\psi \\right)} \\cos{\\left(\\phi_{0} \\right)} - 0.5 h_{0} \\left(cosi^{2} + 1\\right) \\sin{\\left(\\phi_{0} \\right)} \\cos{\\left(2 \\psi \\right)}\\\\cosi \\sin{\\left(\\phi_{0} \\right)} \\cos{\\left(2 \\psi \\right)} + \\left(0.5 cosi^{2} + 0.5\\right) \\sin{\\left(2 \\psi \\right)} \\cos{\\left(\\phi_{0} \\right)} & 1.0 cosi h_{0} \\sin{\\left(2 \\psi \\right)} \\cos{\\left(\\phi_{0} \\right)} + h_{0} \\sin{\\left(\\phi_{0} \\right)} \\cos{\\left(2 \\psi \\right)} & - 2 cosi h_{0} \\sin{\\left(\\phi_{0} \\right)} \\sin{\\left(2 \\psi \\right)} + 1.0 h_{0} \\left(cosi^{2} + 1\\right) \\cos{\\left(\\phi_{0} \\right)} \\cos{\\left(2 \\psi \\right)} & cosi h_{0} \\cos{\\left(\\phi_{0} \\right)} \\cos{\\left(2 \\psi \\right)} - 0.5 h_{0} \\left(cosi^{2} + 1\\right) \\sin{\\left(\\phi_{0} \\right)} \\sin{\\left(2 \\psi \\right)}\\\\- cosi \\sin{\\left(2 \\psi \\right)} \\cos{\\left(\\phi_{0} \\right)} + \\left(- 0.5 cosi^{2} - 0.5\\right) \\sin{\\left(\\phi_{0} \\right)} \\cos{\\left(2 \\psi \\right)} & - 1.0 cosi h_{0} \\sin{\\left(\\phi_{0} \\right)} \\cos{\\left(2 \\psi \\right)} - h_{0} \\sin{\\left(2 \\psi \\right)} \\cos{\\left(\\phi_{0} \\right)} & - 2 cosi h_{0} \\cos{\\left(\\phi_{0} \\right)} \\cos{\\left(2 \\psi \\right)} + 1.0 h_{0} \\left(cosi^{2} + 1\\right) \\sin{\\left(\\phi_{0} \\right)} \\sin{\\left(2 \\psi \\right)} & cosi h_{0} \\sin{\\left(\\phi_{0} \\right)} \\sin{\\left(2 \\psi \\right)} - 0.5 h_{0} \\left(cosi^{2} + 1\\right) \\cos{\\left(\\phi_{0} \\right)} \\cos{\\left(2 \\psi \\right)}\\\\cosi \\cos{\\left(\\phi_{0} \\right)} \\cos{\\left(2 \\psi \\right)} + \\left(- 0.5 cosi^{2} - 0.5\\right) \\sin{\\left(\\phi_{0} \\right)} \\sin{\\left(2 \\psi \\right)} & - 1.0 cosi h_{0} \\sin{\\left(\\phi_{0} \\right)} \\sin{\\left(2 \\psi \\right)} + h_{0} \\cos{\\left(\\phi_{0} \\right)} \\cos{\\left(2 \\psi \\right)} & - 2 cosi h_{0} \\sin{\\left(2 \\psi \\right)} \\cos{\\left(\\phi_{0} \\right)} - 1.0 h_{0} \\left(cosi^{2} + 1\\right) \\sin{\\left(\\phi_{0} \\right)} \\cos{\\left(2 \\psi \\right)} & - cosi h_{0} \\sin{\\left(\\phi_{0} \\right)} \\cos{\\left(2 \\psi \\right)} - 0.5 h_{0} \\left(cosi^{2} + 1\\right) \\sin{\\left(2 \\psi \\right)} \\cos{\\left(\\phi_{0} \\right)}\\end{matrix}\\right]$"
      ],
      "text/plain": [
       "Matrix([\n",
       "[ -cosi*sin(phi0)*sin(2*psi) + (0.5*cosi**2 + 0.5)*cos(phi0)*cos(2*psi),  1.0*cosi*h0*cos(phi0)*cos(2*psi) - h0*sin(phi0)*sin(2*psi), -2*cosi*h0*sin(phi0)*cos(2*psi) - 1.0*h0*(cosi**2 + 1)*sin(2*psi)*cos(phi0), -cosi*h0*sin(2*psi)*cos(phi0) - 0.5*h0*(cosi**2 + 1)*sin(phi0)*cos(2*psi)],\n",
       "[  cosi*sin(phi0)*cos(2*psi) + (0.5*cosi**2 + 0.5)*sin(2*psi)*cos(phi0),  1.0*cosi*h0*sin(2*psi)*cos(phi0) + h0*sin(phi0)*cos(2*psi), -2*cosi*h0*sin(phi0)*sin(2*psi) + 1.0*h0*(cosi**2 + 1)*cos(phi0)*cos(2*psi),  cosi*h0*cos(phi0)*cos(2*psi) - 0.5*h0*(cosi**2 + 1)*sin(phi0)*sin(2*psi)],\n",
       "[-cosi*sin(2*psi)*cos(phi0) + (-0.5*cosi**2 - 0.5)*sin(phi0)*cos(2*psi), -1.0*cosi*h0*sin(phi0)*cos(2*psi) - h0*sin(2*psi)*cos(phi0), -2*cosi*h0*cos(phi0)*cos(2*psi) + 1.0*h0*(cosi**2 + 1)*sin(phi0)*sin(2*psi),  cosi*h0*sin(phi0)*sin(2*psi) - 0.5*h0*(cosi**2 + 1)*cos(phi0)*cos(2*psi)],\n",
       "[ cosi*cos(phi0)*cos(2*psi) + (-0.5*cosi**2 - 0.5)*sin(phi0)*sin(2*psi), -1.0*cosi*h0*sin(phi0)*sin(2*psi) + h0*cos(phi0)*cos(2*psi), -2*cosi*h0*sin(2*psi)*cos(phi0) - 1.0*h0*(cosi**2 + 1)*sin(phi0)*cos(2*psi), -cosi*h0*sin(phi0)*cos(2*psi) - 0.5*h0*(cosi**2 + 1)*sin(2*psi)*cos(phi0)]])"
      ]
     },
     "metadata": {},
     "output_type": "display_data"
    },
    {
     "data": {
      "text/latex": [
       "$\\displaystyle 0.25 \\left|{h_{0}^{3} \\left(cosi - 1\\right)^{3} \\left(cosi + 1\\right)^{3}}\\right|$"
      ],
      "text/plain": [
       "0.25*Abs(h0**3*(cosi - 1)**3*(cosi + 1)**3)"
      ]
     },
     "metadata": {},
     "output_type": "display_data"
    }
   ],
   "source": [
    "# F statistic jacobian\n",
    "h0, cosi, psi, phi0 = symbols('h0, cosi, psi, phi0')\n",
    "\n",
    "# A_+, A_x\n",
    "Ap = (1/2)*h0*(1+cosi**2)\n",
    "Ac = h0*cosi\n",
    "\n",
    "# amplitude parameters (Prix & Krishnan)\n",
    "A1 = +Ap*cos(2*psi)*cos(phi0) - Ac*sin(2*psi)*sin(phi0)\n",
    "A2 = +Ap*sin(2*psi)*cos(phi0) + Ac*cos(2*psi)*sin(phi0)\n",
    "A3 = -Ap*cos(2*psi)*sin(phi0) - Ac*sin(2*psi)*cos(phi0)\n",
    "A4 = -Ap*sin(2*psi)*sin(phi0) + Ac*cos(2*psi)*cos(phi0)\n",
    "display(A1, A2, A3, A4)\n",
    "\n",
    "# calculate jacobian matrix\n",
    "A = Matrix([A1, A2, A3, A4])\n",
    "Abar = Matrix([h0, cosi, psi, phi0])\n",
    "Jmat = A.jacobian(Abar)\n",
    "display(Jmat)\n",
    "\n",
    "# take absolute value of determinant of Jacobian matrix\n",
    "jac = Jmat.det()\n",
    "jac = abs(jac)\n",
    "jac = jac.simplify()\n",
    "display(jac)"
   ]
  },
  {
   "cell_type": "code",
   "execution_count": 5,
   "metadata": {},
   "outputs": [
    {
     "data": {
      "text/latex": [
       "$\\displaystyle \\frac{1}{2 \\pi^{2} h0max}$"
      ],
      "text/plain": [
       "1/(2*pi**2*h0max)"
      ]
     },
     "metadata": {},
     "output_type": "display_data"
    },
    {
     "data": {
      "text/latex": [
       "$\\displaystyle \\frac{17.5}{\\pi^{2} h0max^{4}}$"
      ],
      "text/plain": [
       "17.5/(pi**2*h0max**4)"
      ]
     },
     "metadata": {},
     "output_type": "display_data"
    }
   ],
   "source": [
    "# determining constants for physical and canonical prior\n",
    "h0, cosi, psi, phi0, h0max = symbols('h0, cosi, psi, phi0, h0max')\n",
    "\n",
    "int1 = integrate(1, (h0, 0, h0max))\n",
    "int2 = integrate(1, (cosi, -1, 1))\n",
    "int3 = integrate(1, (psi, -pi/4, pi/4))\n",
    "int4 = integrate(1, (phi0, 0, 2*pi))\n",
    "integral = int1*int2*int3*int4\n",
    "\n",
    "C_physical = 1/integral\n",
    "display(C_physical)\n",
    "\n",
    "# for canonical prior, use jacobian (1/4)h_0^3(1-cos^2i)^3\n",
    "int1 = integrate((1/4)*h0**3, (h0, 0, h0max))\n",
    "int2 = integrate((1-cosi**2)**3, (cosi, -1, 1))\n",
    "int3 = integrate(1, (psi, -pi/4, pi/4))\n",
    "int4 = integrate(1, (phi0, 0, 2*pi))\n",
    "integral = int1*int2*int3*int4\n",
    "\n",
    "C_canonical = 1/integral\n",
    "display(C_canonical)"
   ]
  },
  {
   "cell_type": "code",
   "execution_count": 6,
   "metadata": {},
   "outputs": [
    {
     "data": {
      "text/latex": [
       "$\\displaystyle a \\left(cosi^{2} h_{0}^{2} \\sin^{2}{\\left(2 \\psi \\right)} + 0.25 h_{0}^{2} \\left(cosi^{2} + 1\\right)^{2} \\cos^{2}{\\left(2 \\psi \\right)}\\right) + b \\left(cosi^{2} h_{0}^{2} \\cos^{2}{\\left(2 \\psi \\right)} + 0.25 h_{0}^{2} \\left(cosi^{2} + 1\\right)^{2} \\sin^{2}{\\left(2 \\psi \\right)}\\right) + 2 c \\left(- cosi^{2} h_{0}^{2} + 0.25 h_{0}^{2} \\left(cosi^{2} + 1\\right)^{2}\\right) \\sin{\\left(2 \\psi \\right)} \\cos{\\left(2 \\psi \\right)}$"
      ],
      "text/plain": [
       "a*(cosi**2*h0**2*sin(2*psi)**2 + 0.25*h0**2*(cosi**2 + 1)**2*cos(2*psi)**2) + b*(cosi**2*h0**2*cos(2*psi)**2 + 0.25*h0**2*(cosi**2 + 1)**2*sin(2*psi)**2) + 2*c*(-cosi**2*h0**2 + 0.25*h0**2*(cosi**2 + 1)**2)*sin(2*psi)*cos(2*psi)"
      ]
     },
     "metadata": {},
     "output_type": "display_data"
    },
    {
     "data": {
      "text/latex": [
       "$\\displaystyle 0$"
      ],
      "text/plain": [
       "0"
      ]
     },
     "metadata": {},
     "output_type": "display_data"
    },
    {
     "data": {
      "text/latex": [
       "$\\displaystyle 0.4 h_{0}^{2} \\left(a + b\\right)$"
      ],
      "text/plain": [
       "0.4*h0**2*(a + b)"
      ]
     },
     "metadata": {},
     "output_type": "display_data"
    }
   ],
   "source": [
    "# expected value of squared SNR\n",
    "a, b, c = symbols('a, b, c')\n",
    "\n",
    "rho2_orig = a*(A1**2 + A3**2) + b*(A2**2 + A4**2) + 2*c*(A1*A2 + A3*A4)\n",
    "\n",
    "# simplified form\n",
    "x = a*(Ap**2 *(cos(2*psi))**2 + Ac**2 * (sin(2*psi))**2)\n",
    "y = b*(Ap**2 *(sin(2*psi))**2 + Ac**2 * (cos(2*psi))**2) \n",
    "z = 2*c*(Ap**2-Ac**2)*cos(2*psi)*sin(2*psi)\n",
    "rho2 = x+y+z\n",
    "display(rho2)\n",
    "\n",
    "# check that they give the same expressions\n",
    "delta = rho2-rho2_orig\n",
    "delta = delta.simplify()\n",
    "display(delta)\n",
    "\n",
    "# integrate over cosi, psi, phi0\n",
    "int1 = (2/pi)*integrate(rho2, (psi, -pi/4, pi/4))\n",
    "int1 = int1.simplify()\n",
    "int2 = (1/2)*integrate(int1, (cosi, -1, 1))\n",
    "int2 = int2.simplify()\n",
    "display(int2)"
   ]
  },
  {
   "cell_type": "code",
   "execution_count": 7,
   "metadata": {},
   "outputs": [
    {
     "data": {
      "text/latex": [
       "$\\displaystyle x_{1} \\left(- cosi h_{0} \\sin{\\left(\\phi_{0} \\right)} \\sin{\\left(2 \\psi \\right)} + 0.5 h_{0} \\left(cosi^{2} + 1\\right) \\cos{\\left(\\phi_{0} \\right)} \\cos{\\left(2 \\psi \\right)}\\right) + x_{2} \\left(cosi h_{0} \\sin{\\left(\\phi_{0} \\right)} \\cos{\\left(2 \\psi \\right)} + 0.5 h_{0} \\left(cosi^{2} + 1\\right) \\sin{\\left(2 \\psi \\right)} \\cos{\\left(\\phi_{0} \\right)}\\right) + x_{3} \\left(- cosi h_{0} \\sin{\\left(2 \\psi \\right)} \\cos{\\left(\\phi_{0} \\right)} - 0.5 h_{0} \\left(cosi^{2} + 1\\right) \\sin{\\left(\\phi_{0} \\right)} \\cos{\\left(2 \\psi \\right)}\\right) + x_{4} \\left(cosi h_{0} \\cos{\\left(\\phi_{0} \\right)} \\cos{\\left(2 \\psi \\right)} - 0.5 h_{0} \\left(cosi^{2} + 1\\right) \\sin{\\left(\\phi_{0} \\right)} \\sin{\\left(2 \\psi \\right)}\\right)$"
      ],
      "text/plain": [
       "x1*(-cosi*h0*sin(phi0)*sin(2*psi) + 0.5*h0*(cosi**2 + 1)*cos(phi0)*cos(2*psi)) + x2*(cosi*h0*sin(phi0)*cos(2*psi) + 0.5*h0*(cosi**2 + 1)*sin(2*psi)*cos(phi0)) + x3*(-cosi*h0*sin(2*psi)*cos(phi0) - 0.5*h0*(cosi**2 + 1)*sin(phi0)*cos(2*psi)) + x4*(cosi*h0*cos(phi0)*cos(2*psi) - 0.5*h0*(cosi**2 + 1)*sin(phi0)*sin(2*psi))"
      ]
     },
     "metadata": {},
     "output_type": "display_data"
    },
    {
     "data": {
      "text/latex": [
       "$\\displaystyle a \\left(cosi^{2} h_{0}^{2} \\sin^{2}{\\left(2 \\psi \\right)} + 0.25 h_{0}^{2} \\left(cosi^{2} + 1\\right)^{2} \\cos^{2}{\\left(2 \\psi \\right)}\\right) + b \\left(cosi^{2} h_{0}^{2} \\cos^{2}{\\left(2 \\psi \\right)} + 0.25 h_{0}^{2} \\left(cosi^{2} + 1\\right)^{2} \\sin^{2}{\\left(2 \\psi \\right)}\\right) + 2 c \\left(- cosi^{2} h_{0}^{2} + 0.25 h_{0}^{2} \\left(cosi^{2} + 1\\right)^{2}\\right) \\sin{\\left(2 \\psi \\right)} \\cos{\\left(2 \\psi \\right)}$"
      ],
      "text/plain": [
       "a*(cosi**2*h0**2*sin(2*psi)**2 + 0.25*h0**2*(cosi**2 + 1)**2*cos(2*psi)**2) + b*(cosi**2*h0**2*cos(2*psi)**2 + 0.25*h0**2*(cosi**2 + 1)**2*sin(2*psi)**2) + 2*c*(-cosi**2*h0**2 + 0.25*h0**2*(cosi**2 + 1)**2)*sin(2*psi)*cos(2*psi)"
      ]
     },
     "metadata": {},
     "output_type": "display_data"
    },
    {
     "data": {
      "text/latex": [
       "$\\displaystyle e^{- 0.5 a \\left(cosi^{2} h_{0}^{2} \\sin^{2}{\\left(2 \\psi \\right)} + 0.25 h_{0}^{2} \\left(cosi^{2} + 1\\right)^{2} \\cos^{2}{\\left(2 \\psi \\right)}\\right) - 0.5 b \\left(cosi^{2} h_{0}^{2} \\cos^{2}{\\left(2 \\psi \\right)} + 0.25 h_{0}^{2} \\left(cosi^{2} + 1\\right)^{2} \\sin^{2}{\\left(2 \\psi \\right)}\\right) - 1.0 c \\left(- cosi^{2} h_{0}^{2} + 0.25 h_{0}^{2} \\left(cosi^{2} + 1\\right)^{2}\\right) \\sin{\\left(2 \\psi \\right)} \\cos{\\left(2 \\psi \\right)} + x_{1} \\left(- cosi h_{0} \\sin{\\left(\\phi_{0} \\right)} \\sin{\\left(2 \\psi \\right)} + 0.5 h_{0} \\left(cosi^{2} + 1\\right) \\cos{\\left(\\phi_{0} \\right)} \\cos{\\left(2 \\psi \\right)}\\right) + x_{2} \\left(cosi h_{0} \\sin{\\left(\\phi_{0} \\right)} \\cos{\\left(2 \\psi \\right)} + 0.5 h_{0} \\left(cosi^{2} + 1\\right) \\sin{\\left(2 \\psi \\right)} \\cos{\\left(\\phi_{0} \\right)}\\right) + x_{3} \\left(- cosi h_{0} \\sin{\\left(2 \\psi \\right)} \\cos{\\left(\\phi_{0} \\right)} - 0.5 h_{0} \\left(cosi^{2} + 1\\right) \\sin{\\left(\\phi_{0} \\right)} \\cos{\\left(2 \\psi \\right)}\\right) + x_{4} \\left(cosi h_{0} \\cos{\\left(\\phi_{0} \\right)} \\cos{\\left(2 \\psi \\right)} - 0.5 h_{0} \\left(cosi^{2} + 1\\right) \\sin{\\left(\\phi_{0} \\right)} \\sin{\\left(2 \\psi \\right)}\\right)}$"
      ],
      "text/plain": [
       "exp(-0.5*a*(cosi**2*h0**2*sin(2*psi)**2 + 0.25*h0**2*(cosi**2 + 1)**2*cos(2*psi)**2) - 0.5*b*(cosi**2*h0**2*cos(2*psi)**2 + 0.25*h0**2*(cosi**2 + 1)**2*sin(2*psi)**2) - 1.0*c*(-cosi**2*h0**2 + 0.25*h0**2*(cosi**2 + 1)**2)*sin(2*psi)*cos(2*psi) + x1*(-cosi*h0*sin(phi0)*sin(2*psi) + 0.5*h0*(cosi**2 + 1)*cos(phi0)*cos(2*psi)) + x2*(cosi*h0*sin(phi0)*cos(2*psi) + 0.5*h0*(cosi**2 + 1)*sin(2*psi)*cos(phi0)) + x3*(-cosi*h0*sin(2*psi)*cos(phi0) - 0.5*h0*(cosi**2 + 1)*sin(phi0)*cos(2*psi)) + x4*(cosi*h0*cos(phi0)*cos(2*psi) - 0.5*h0*(cosi**2 + 1)*sin(phi0)*sin(2*psi)))"
      ]
     },
     "metadata": {},
     "output_type": "display_data"
    }
   ],
   "source": [
    "# integrate L(A(Abar)) d^4 Abar\n",
    "a, b, c, h0max = symbols('a, b, c, h0max')\n",
    "x1, x2, x3, x4 = symbols('x1, x2, x3, x4')\n",
    "\n",
    "# inner product (x|s)\n",
    "xs = x1*A1 + x2*A2 + x3*A3 +x4*A4\n",
    "display(xs)\n",
    "\n",
    "# inner product (s|s)\n",
    "x = a*(Ap**2 *(cos(2*psi))**2 + Ac**2 * (sin(2*psi))**2)\n",
    "y = b*(Ap**2 *(sin(2*psi))**2 + Ac**2 * (cos(2*psi))**2) \n",
    "z = 2*c*(Ap**2-Ac**2)*cos(2*psi)*sin(2*psi)\n",
    "ss = x+y+z\n",
    "display(ss)\n",
    "\n",
    "# integrand\n",
    "f = exp(xs - (1/2)*ss)\n",
    "display(f)\n",
    "\n",
    "# integrate\n",
    "#int1 = (1/(2*pi))*integrate(f, (phi0, 0, 2*pi))\n",
    "#int2 = (1/2)*integrate(int1, (cosi, -1, 1))\n",
    "#int3 = (2/pi)*integrate(int2, (psi, -pi/4, pi/4))\n",
    "#int4 = (1/h0max)*integrate(int3, (h0, 0, h0max))"
   ]
  },
  {
   "cell_type": "code",
   "execution_count": 8,
   "metadata": {},
   "outputs": [
    {
     "data": {
      "text/latex": [
       "$\\displaystyle 0.5 \\sqrt{\\left(A_{1} - A_{4}\\right)^{2} + \\left(A_{2} + A_{3}\\right)^{2}} + 0.5 \\sqrt{\\left(A_{1} + A_{4}\\right)^{2} + \\left(A_{2} - A_{3}\\right)^{2}}$"
      ],
      "text/plain": [
       "0.5*sqrt((A1 - A4)**2 + (A2 + A3)**2) + 0.5*sqrt((A1 + A4)**2 + (A2 - A3)**2)"
      ]
     },
     "metadata": {},
     "output_type": "display_data"
    },
    {
     "data": {
      "text/latex": [
       "$\\displaystyle - 0.5 \\sqrt{\\left(A_{1} - A_{4}\\right)^{2} + \\left(A_{2} + A_{3}\\right)^{2}} + 0.5 \\sqrt{\\left(A_{1} + A_{4}\\right)^{2} + \\left(A_{2} - A_{3}\\right)^{2}}$"
      ],
      "text/plain": [
       "-0.5*sqrt((A1 - A4)**2 + (A2 + A3)**2) + 0.5*sqrt((A1 + A4)**2 + (A2 - A3)**2)"
      ]
     },
     "metadata": {},
     "output_type": "display_data"
    },
    {
     "data": {
      "text/latex": [
       "$\\displaystyle - \\sqrt{-1 + \\frac{1.0 \\left(\\sqrt{\\left(A_{1} - A_{4}\\right)^{2} + \\left(A_{2} + A_{3}\\right)^{2}} + \\sqrt{\\left(A_{1} + A_{4}\\right)^{2} + \\left(A_{2} - A_{3}\\right)^{2}}\\right)^{2}}{\\left(- \\sqrt{\\left(A_{1} - A_{4}\\right)^{2} + \\left(A_{2} + A_{3}\\right)^{2}} + \\sqrt{\\left(A_{1} + A_{4}\\right)^{2} + \\left(A_{2} - A_{3}\\right)^{2}}\\right)^{2}}} + \\frac{0.5 \\sqrt{\\left(A_{1} - A_{4}\\right)^{2} + \\left(A_{2} + A_{3}\\right)^{2}} + 0.5 \\sqrt{\\left(A_{1} + A_{4}\\right)^{2} + \\left(A_{2} - A_{3}\\right)^{2}}}{- 0.5 \\sqrt{\\left(A_{1} - A_{4}\\right)^{2} + \\left(A_{2} + A_{3}\\right)^{2}} + 0.5 \\sqrt{\\left(A_{1} + A_{4}\\right)^{2} + \\left(A_{2} - A_{3}\\right)^{2}}}$"
      ],
      "text/plain": [
       "-sqrt(-1 + 1.0*(sqrt((A1 - A4)**2 + (A2 + A3)**2) + sqrt((A1 + A4)**2 + (A2 - A3)**2))**2/(-sqrt((A1 - A4)**2 + (A2 + A3)**2) + sqrt((A1 + A4)**2 + (A2 - A3)**2))**2) + (0.5*sqrt((A1 - A4)**2 + (A2 + A3)**2) + 0.5*sqrt((A1 + A4)**2 + (A2 - A3)**2))/(-0.5*sqrt((A1 - A4)**2 + (A2 + A3)**2) + 0.5*sqrt((A1 + A4)**2 + (A2 - A3)**2))"
      ]
     },
     "metadata": {},
     "output_type": "display_data"
    },
    {
     "data": {
      "text/latex": [
       "$\\displaystyle \\frac{- 0.5 \\sqrt{\\left(A_{1} - A_{4}\\right)^{2} + \\left(A_{2} + A_{3}\\right)^{2}} + 0.5 \\sqrt{\\left(A_{1} + A_{4}\\right)^{2} + \\left(A_{2} - A_{3}\\right)^{2}}}{- \\sqrt{-1 + \\frac{1.0 \\left(\\sqrt{\\left(A_{1} - A_{4}\\right)^{2} + \\left(A_{2} + A_{3}\\right)^{2}} + \\sqrt{\\left(A_{1} + A_{4}\\right)^{2} + \\left(A_{2} - A_{3}\\right)^{2}}\\right)^{2}}{\\left(- \\sqrt{\\left(A_{1} - A_{4}\\right)^{2} + \\left(A_{2} + A_{3}\\right)^{2}} + \\sqrt{\\left(A_{1} + A_{4}\\right)^{2} + \\left(A_{2} - A_{3}\\right)^{2}}\\right)^{2}}} + \\frac{0.5 \\sqrt{\\left(A_{1} - A_{4}\\right)^{2} + \\left(A_{2} + A_{3}\\right)^{2}} + 0.5 \\sqrt{\\left(A_{1} + A_{4}\\right)^{2} + \\left(A_{2} - A_{3}\\right)^{2}}}{- 0.5 \\sqrt{\\left(A_{1} - A_{4}\\right)^{2} + \\left(A_{2} + A_{3}\\right)^{2}} + 0.5 \\sqrt{\\left(A_{1} + A_{4}\\right)^{2} + \\left(A_{2} - A_{3}\\right)^{2}}}}$"
      ],
      "text/plain": [
       "(-0.5*sqrt((A1 - A4)**2 + (A2 + A3)**2) + 0.5*sqrt((A1 + A4)**2 + (A2 - A3)**2))/(-sqrt(-1 + 1.0*(sqrt((A1 - A4)**2 + (A2 + A3)**2) + sqrt((A1 + A4)**2 + (A2 - A3)**2))**2/(-sqrt((A1 - A4)**2 + (A2 + A3)**2) + sqrt((A1 + A4)**2 + (A2 - A3)**2))**2) + (0.5*sqrt((A1 - A4)**2 + (A2 + A3)**2) + 0.5*sqrt((A1 + A4)**2 + (A2 - A3)**2))/(-0.5*sqrt((A1 - A4)**2 + (A2 + A3)**2) + 0.5*sqrt((A1 + A4)**2 + (A2 - A3)**2)))"
      ]
     },
     "metadata": {},
     "output_type": "display_data"
    }
   ],
   "source": [
    "# express jacobian in terms of A1, A2, A3, A4\n",
    "A1, A2, A3, A4 = symbols('A1, A2, A3, A4')\n",
    "\n",
    "# inverse transformation formulas for h0, cosi\n",
    "Ap = (1/2)*(sqrt((A1+A4)**2 + (A2-A3)**2) + sqrt((A1-A4)**2 + (A2+A3)**2))\n",
    "Ac = (1/2)*(sqrt((A1+A4)**2 + (A2-A3)**2) - sqrt((A1-A4)**2 + (A2+A3)**2))\n",
    "\n",
    "cosi = Ap/Ac - sqrt((Ap/Ac)**2 - 1)\n",
    "h0 = Ac/cosi\n",
    "\n",
    "display(Ap, Ac, cosi, h0)"
   ]
  },
  {
   "cell_type": "code",
   "execution_count": null,
   "metadata": {},
   "outputs": [],
   "source": []
  }
 ],
 "metadata": {
  "kernelspec": {
   "display_name": "Python (symbolic)",
   "language": "python",
   "name": "symbolic"
  },
  "language_info": {
   "codemirror_mode": {
    "name": "ipython",
    "version": 3
   },
   "file_extension": ".py",
   "mimetype": "text/x-python",
   "name": "python",
   "nbconvert_exporter": "python",
   "pygments_lexer": "ipython3",
   "version": "3.7.7"
  }
 },
 "nbformat": 4,
 "nbformat_minor": 2
}
