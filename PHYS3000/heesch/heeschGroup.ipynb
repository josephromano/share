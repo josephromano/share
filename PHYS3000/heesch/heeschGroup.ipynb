{
 "cells": [
  {
   "cell_type": "markdown",
   "metadata": {},
   "source": [
    "<h1><center>Heesch Group Tesselations</center></h1>\n",
    "\n",
    "<center><a href = \"mailto: joseph.d.romano@gmail.com\">joseph.d.romano@gmail.com</a></center>"
   ]
  },
  {
   "cell_type": "code",
   "execution_count": 1,
   "metadata": {},
   "outputs": [],
   "source": [
    "%load_ext autoreload\n",
    "%autoreload 2"
   ]
  },
  {
   "cell_type": "code",
   "execution_count": 2,
   "metadata": {},
   "outputs": [],
   "source": [
    "import numpy as np\n",
    "import matplotlib.pyplot as plt\n",
    "import matplotlib.lines as lines\n",
    "import matplotlib as mpl\n",
    "%matplotlib inline\n",
    "%config InlineBackend.figure_format = 'retina'\n",
    "\n",
    "#mpl.rcParams['figure.dpi'] = 200\n",
    "#mpl.rcParams['figure.figsize'] = [5,3]\n",
    "mpl.rcParams['text.usetex'] = True"
   ]
  },
  {
   "cell_type": "markdown",
   "metadata": {},
   "source": [
    "# Various functions"
   ]
  },
  {
   "cell_type": "code",
   "execution_count": 3,
   "metadata": {},
   "outputs": [],
   "source": [
    "def standardEdge(type):\n",
    "    '''\n",
    "    generate standard edges (horizontal orientation, length=1, leftmost vertex at (0,0))\n",
    "    \n",
    "    type: incline, inclinedip, dip, squarepulse, bowtie, zigzag (last three for C)\n",
    "    '''\n",
    "    \n",
    "    if type=='incline':\n",
    "        \n",
    "        P = np.zeros((4,2))\n",
    "        P[0,:] = np.array([0, 0])\n",
    "        P[1,:] = np.array([0.5, 1./6.])\n",
    "        P[2,:] = np.array([0.5, 0])\n",
    "        P[3,:] = np.array([1., 0])\n",
    "            \n",
    "    if type=='inclinedip':\n",
    "        \n",
    "        P = np.zeros((4,2))\n",
    "        P[0,:] = np.array([0, 0])\n",
    "        P[1,:] = np.array([0.5, 1./6.])\n",
    "        P[2,:] = np.array([5./6., -1./6.])\n",
    "        P[3,:] = np.array([1., 0])\n",
    "        \n",
    "    if type=='dip':\n",
    "        \n",
    "        P = np.zeros((4,2))\n",
    "        P[0,:] = np.array([0, 0])\n",
    "        P[1,:] = np.array([0.25, -1./6.])\n",
    "        P[2,:] = np.array([0.5, 0])\n",
    "        P[3,:] = np.array([1., 0])\n",
    "        \n",
    "    if type=='squarepulse':\n",
    "        \n",
    "        P = np.zeros((8,2))\n",
    "        P[0,:] = np.array([0, 0])\n",
    "        P[1,:] = np.array([1./3., 0])\n",
    "        P[2,:] = np.array([1./3., -1./6.])\n",
    "        P[3,:] = np.array([0.5, -1./6.])\n",
    "        P[4,:] = np.array([0.5, 1./6.])\n",
    "        P[5,:] = np.array([2./3., 1./6.])\n",
    "        P[6,:] = np.array([2./3., 0])\n",
    "        P[7,:] = np.array([1., 0])\n",
    "        \n",
    "    if type=='bowtie':\n",
    "        \n",
    "        P = np.zeros((6,2))\n",
    "        P[0,:] = np.array([0, 0])\n",
    "        P[1,:] = np.array([1./3, 0])\n",
    "        P[2,:] = np.array([1./3., -1./6.])\n",
    "        P[3,:] = np.array([2./3., 1./6.])\n",
    "        P[4,:] = np.array([2./3., 0])\n",
    "        P[5,:] = np.array([1., 0])\n",
    "        \n",
    "    if type=='zigzag':\n",
    "        \n",
    "        P = np.zeros((4,2))\n",
    "        P[0,:] = np.array([0, 0])\n",
    "        P[1,:] = np.array([1./3., -1./6.])\n",
    "        P[2,:] = np.array([2./3., 1./6.])\n",
    "        P[3,:] = np.array([1., 0])\n",
    "        \n",
    "    return P"
   ]
  },
  {
   "cell_type": "code",
   "execution_count": 4,
   "metadata": {},
   "outputs": [],
   "source": [
    "def plotPoints(P):\n",
    "    '''\n",
    "    plot points\n",
    "    '''\n",
    "    \n",
    "    N = P.shape[0]\n",
    "    \n",
    "    plt.plot(P[0,0], P[0,1], 'ko')\n",
    "    plt.plot(P[N-1,0], P[N-1,1], 'ko')\n",
    "    \n",
    "    for ii in range(0,N-1):\n",
    "        x = np.array([P[ii,0], P[ii+1,0]])\n",
    "        y = np.array([P[ii,1], P[ii+1,1]])\n",
    "        \n",
    "        plt.plot(x, y, color='k', linestyle='-')\n",
    "        \n",
    "    return"
   ]
  },
  {
   "cell_type": "code",
   "execution_count": 5,
   "metadata": {},
   "outputs": [
    {
     "data": {
      "image/png": "[encoded data removed]",
      "text/plain": [
       "<Figure size 432x288 with 1 Axes>"
      ]
     },
     "metadata": {
      "image/png": {
       "height": 247,
       "width": 376
      },
      "needs_background": "light"
     },
     "output_type": "display_data"
    }
   ],
   "source": [
    "# test plot points\n",
    "\n",
    "P = standardEdge('incline')\n",
    "#P = standardEdge('inclinedip')\n",
    "#P = standardEdge('dip')\n",
    "#P = standardEdge('squarepulse')\n",
    "#P = standardEdge('bowtie')\n",
    "#P = standardEdge('zigzag')\n",
    "\n",
    "plt.figure()\n",
    "plt.axis('equal')\n",
    "plotPoints(P)"
   ]
  },
  {
   "cell_type": "code",
   "execution_count": 6,
   "metadata": {},
   "outputs": [],
   "source": [
    "def scale(P, scalefactors):\n",
    "    '''\n",
    "    scale points by 2-d scalefactors\n",
    "    '''\n",
    "    \n",
    "    scalex = scalefactors[0]\n",
    "    scaley = scalefactors[1]\n",
    "\n",
    "    N = P.shape[0]\n",
    "    Q = np.empty_like(P)\n",
    "    \n",
    "    for ii in range(0,N):\n",
    "        Q[ii,0] = scalex*P[ii,0]\n",
    "        Q[ii,1] = scaley*P[ii,1]\n",
    "        \n",
    "    return Q"
   ]
  },
  {
   "cell_type": "code",
   "execution_count": 7,
   "metadata": {},
   "outputs": [],
   "source": [
    "def translate(P, shift):\n",
    "    '''\n",
    "    translate points by 2-d shift vector\n",
    "    '''\n",
    "    \n",
    "    N = P.shape[0]\n",
    "    Q = np.empty_like(P)\n",
    "    \n",
    "    for ii in range(0,N):\n",
    "        Q[ii,:] = P[ii,:] + shift\n",
    "        \n",
    "    return Q"
   ]
  },
  {
   "cell_type": "code",
   "execution_count": 8,
   "metadata": {},
   "outputs": [],
   "source": [
    "def Rz(a):\n",
    "    '''\n",
    "    calculate passive rotation matrix around z-axis\n",
    "    '''\n",
    "    \n",
    "    R = np.array([[ np.cos(a), np.sin(a)], \n",
    "                  [-np.sin(a), np.cos(a)]])\n",
    "    \n",
    "    return R"
   ]
  },
  {
   "cell_type": "code",
   "execution_count": 9,
   "metadata": {},
   "outputs": [],
   "source": [
    "def rotate(P, A, angle):\n",
    "    '''\n",
    "    actively rotate points P->Q around A thru angle (in radians)\n",
    "    '''\n",
    "    \n",
    "    # first translate object back to origin\n",
    "    P = translate(P, -A)\n",
    "    \n",
    "    # then do an active rotation (use minus angle)\n",
    "    R = Rz(-angle)\n",
    "    \n",
    "    N = P.shape[0]\n",
    "    Q = np.empty_like(P)\n",
    "    \n",
    "    for ii in range(0,N):\n",
    "        Q[ii,:] = np.dot(R, P[ii,:])\n",
    "    \n",
    "    # translate back\n",
    "    Q = translate(Q, A)\n",
    "    \n",
    "    return Q"
   ]
  },
  {
   "cell_type": "code",
   "execution_count": 10,
   "metadata": {},
   "outputs": [
    {
     "data": {
      "image/png": "[encoded data removed]",
      "text/plain": [
       "<Figure size 432x288 with 1 Axes>"
      ]
     },
     "metadata": {
      "image/png": {
       "height": 247,
       "width": 373
      },
      "needs_background": "light"
     },
     "output_type": "display_data"
    }
   ],
   "source": [
    "# test scale and translation\n",
    "\n",
    "P = standardEdge('squarepulse')\n",
    "\n",
    "scalefactors = np.array([0.5, 0.15])\n",
    "shift = np.array([0.25, .5])\n",
    "QQ = scale(P, scalefactors)\n",
    "Q = translate(QQ, shift)\n",
    "\n",
    "plt.figure()\n",
    "plt.axis('equal')\n",
    "plotPoints(Q)"
   ]
  },
  {
   "cell_type": "code",
   "execution_count": 13,
   "metadata": {},
   "outputs": [
    {
     "data": {
      "image/png": "[encoded data removed]",
      "text/plain": [
       "<Figure size 432x288 with 1 Axes>"
      ]
     },
     "metadata": {
      "image/png": {
       "height": 247,
       "width": 376
      },
      "needs_background": "light"
     },
     "output_type": "display_data"
    }
   ],
   "source": [
    "# test rotation\n",
    "\n",
    "P = standardEdge('incline')\n",
    "\n",
    "A = np.array([0.5, 0])\n",
    "angle = np.deg2rad(30)\n",
    "Q = rotate(P, A, angle)\n",
    "\n",
    "plt.figure()\n",
    "plt.axis('equal')\n",
    "plotPoints(Q)"
   ]
  },
  {
   "cell_type": "code",
   "execution_count": 14,
   "metadata": {},
   "outputs": [],
   "source": [
    "def reflect(P, axis):\n",
    "    '''\n",
    "    reflect points about an axis = [angle (in radians), y-intercept]\n",
    "    \n",
    "    NOTE: if angle=pi/2 then y-intercept is an x-intercept\n",
    "    '''\n",
    "    \n",
    "    # extract reflection axis information\n",
    "    angle = axis[0]\n",
    "    b = axis[1]\n",
    "    \n",
    "    # check if vertical reflection axis\n",
    "    if abs(angle)==np.pi/2:\n",
    "        \n",
    "        print('vertical reflection axis')\n",
    "        shift = np.array([b, 0])\n",
    "        \n",
    "        # first translate object by -b\n",
    "        Q = translate(P, -shift)\n",
    "        \n",
    "        # now reflect about y-axis\n",
    "        N = P.shape[0]\n",
    "        QQ = np.empty_like(P)\n",
    "        \n",
    "        for ii in range(0,N):\n",
    "            QQ[ii,:] = np.array([-Q[ii,0], Q[ii,1]])    \n",
    "\n",
    "        # translate back\n",
    "        Q = translate(QQ, shift)\n",
    "        \n",
    "    else:\n",
    "        \n",
    "        # first translate object by -b\n",
    "        shift = np.array([0, b])\n",
    "        Q = translate(P, -shift)\n",
    "        \n",
    "        # then rotate by -angle\n",
    "        A = np.array([0,0])\n",
    "        Q = rotate(Q, A, -angle)\n",
    "        \n",
    "        # now reflect about x-axis\n",
    "        N = P.shape[0]\n",
    "        QQ = np.empty_like(P)\n",
    "        \n",
    "        for ii in range(0,N):\n",
    "            QQ[ii,:] = np.array([Q[ii,0], -Q[ii,1]])    \n",
    "            \n",
    "        # rotate back\n",
    "        QQ = rotate(QQ, A, angle)\n",
    "\n",
    "        # translate back\n",
    "        Q = translate(QQ, shift)\n",
    "    \n",
    "    return Q"
   ]
  },
  {
   "cell_type": "code",
   "execution_count": 15,
   "metadata": {},
   "outputs": [],
   "source": [
    "def glideReflect(P, axis, scale):\n",
    "    '''\n",
    "    perform glide reflection of points P \n",
    "    \n",
    "    axis = [angle (rad), y-intercept]\n",
    "    scale = amount to translate in the direction of the axis\n",
    "    '''\n",
    "    \n",
    "    # first reflect\n",
    "    Q = reflect(P, axis)\n",
    "    \n",
    "    # then translate\n",
    "    angle = axis[0]\n",
    "    x = scale*np.cos(angle)\n",
    "    y = scale*np.sin(angle)\n",
    "    shift = np.array([x, y])\n",
    "    \n",
    "    Q = translate(Q, shift)\n",
    "    \n",
    "    return Q"
   ]
  },
  {
   "cell_type": "code",
   "execution_count": 17,
   "metadata": {},
   "outputs": [
    {
     "name": "stdout",
     "output_type": "stream",
     "text": [
      "vertical reflection axis\n",
      "vertical reflection axis\n"
     ]
    },
    {
     "data": {
      "image/png": "[encoded data removed]",
      "text/plain": [
       "<Figure size 432x288 with 1 Axes>"
      ]
     },
     "metadata": {
      "image/png": {
       "height": 247,
       "width": 368
      },
      "needs_background": "light"
     },
     "output_type": "display_data"
    }
   ],
   "source": [
    "# test reflection and glide reflection\n",
    "\n",
    "P = standardEdge('incline')\n",
    "plt.figure()\n",
    "plt.axis('equal')\n",
    "plotPoints(P)\n",
    "\n",
    "# reflection\n",
    "b = 0.15 # y or x-intercept\n",
    "angle = np.deg2rad(90)\n",
    "axis = np.array([angle, b])\n",
    "Q = reflect(P, axis)\n",
    "plotPoints(Q)\n",
    "\n",
    "# glide reflection\n",
    "scale = 2\n",
    "R = glideReflect(P, axis, scale)\n",
    "plotPoints(R)"
   ]
  },
  {
   "cell_type": "markdown",
   "metadata": {},
   "source": [
    "# Interactive code"
   ]
  },
  {
   "cell_type": "code",
   "execution_count": null,
   "metadata": {
    "scrolled": false
   },
   "outputs": [
    {
     "name": "stdout",
     "output_type": "stream",
     "text": [
      "\n",
      "\n",
      "input axis (x,y,z; w to quit): z\n",
      "input angle (degrees): 0\n"
     ]
    },
    {
     "data": {
      "image/png": "[encoded data removed]",
      "text/plain": [
       "<Figure size 432x288 with 1 Axes>"
      ]
     },
     "metadata": {
      "image/png": {
       "height": 247,
       "width": 368
      },
      "needs_background": "light"
     },
     "output_type": "display_data"
    },
    {
     "name": "stdout",
     "output_type": "stream",
     "text": [
      "\n",
      "\n",
      "input axis (x,y,z; w to quit): z\n",
      "input angle (degrees): 30\n"
     ]
    },
    {
     "data": {
      "image/png": "[encoded data removed]",
      "text/plain": [
       "<Figure size 432x288 with 1 Axes>"
      ]
     },
     "metadata": {
      "image/png": {
       "height": 247,
       "width": 368
      },
      "needs_background": "light"
     },
     "output_type": "display_data"
    },
    {
     "name": "stdout",
     "output_type": "stream",
     "text": [
      "\n",
      "\n",
      "input axis (x,y,z; w to quit): x\n",
      "input angle (degrees): 30\n"
     ]
    },
    {
     "data": {
      "image/png": "[encoded data removed]",
      "text/plain": [
       "<Figure size 432x288 with 1 Axes>"
      ]
     },
     "metadata": {
      "image/png": {
       "height": 247,
       "width": 376
      },
      "needs_background": "light"
     },
     "output_type": "display_data"
    },
    {
     "name": "stdout",
     "output_type": "stream",
     "text": [
      "\n",
      "\n",
      "input axis (x,y,z; w to quit): y\n",
      "input angle (degrees): -15\n"
     ]
    },
    {
     "data": {
      "image/png": "[encoded data removed]",
      "text/plain": [
       "<Figure size 432x288 with 1 Axes>"
      ]
     },
     "metadata": {
      "image/png": {
       "height": 247,
       "width": 376
      },
      "needs_background": "light"
     },
     "output_type": "display_data"
    },
    {
     "name": "stdout",
     "output_type": "stream",
     "text": [
      "\n",
      "\n",
      "input axis (x,y,z; w to quit): z\n",
      "input angle (degrees): 20\n"
     ]
    },
    {
     "data": {
      "image/png": "[encoded data removed]",
      "text/plain": [
       "<Figure size 432x288 with 1 Axes>"
      ]
     },
     "metadata": {
      "image/png": {
       "height": 247,
       "width": 376
      },
      "needs_background": "light"
     },
     "output_type": "display_data"
    },
    {
     "name": "stdout",
     "output_type": "stream",
     "text": [
      "\n",
      "\n"
     ]
    }
   ],
   "source": [
    "# interactive 3-point perspective of a box\n",
    "\n",
    "# number of vertices for box\n",
    "N = 8\n",
    "\n",
    "# distance of eye point to picture plane\n",
    "d = 1\n",
    "\n",
    "# height of horizon line above ground plane\n",
    "h = 1\n",
    "\n",
    "# approximately 30 degree angular field\n",
    "ulim = 0.5*d\n",
    "vlim = 0.5*d\n",
    "\n",
    "# shift vector for eventual translation of a point in physical space beyond picture plane\n",
    "#shift = np.array([0, d+5, h]) # vertex at CP on HL\n",
    "shift = np.array([-0.5+1, d+5, h-0.5+1]) # right and above HL\n",
    "   \n",
    "# generate vertices for standard cube \n",
    "V0 = standardCube()\n",
    "    \n",
    "# scale cube ('box' = rectangular parallelpiped)\n",
    "#scalefactors = np.array([2, 1, 1])\n",
    "scalefactors = np.array([1.5, 1.5, 1.5])\n",
    "V1 = scale(V0, scalefactors)\n",
    "    \n",
    "# initial rotation (identity)\n",
    "prevRot = np.eye(3)\n",
    "    \n",
    "# loop for successive rotations\n",
    "counter = 1\n",
    "while 1!=0:\n",
    "    \n",
    "    # input axis, angle\n",
    "    print('\\n')\n",
    "    axis  = input('input axis (x,y,z; w to quit): ')\n",
    "    if axis=='w':\n",
    "        break\n",
    "        \n",
    "    angle = input('input angle (degrees): ')\n",
    "    \n",
    "    # convert string input to float and degrees to radians\n",
    "    angle = float(angle)\n",
    "    angle = np.deg2rad(angle)\n",
    "    \n",
    "    # perform rotation\n",
    "    V2, a_vec, b_vec, c_vec, newRot = rotate(V1, axis, angle, prevRot)\n",
    "\n",
    "    # perform translation to a point in physical space beyond picture plane\n",
    "    V3 = translate(V2, shift)\n",
    "    \n",
    "    # perform perspective transformation from physical space to picture plane\n",
    "    u = np.zeros(N)\n",
    "    v = np.zeros(N)\n",
    "    \n",
    "    for ii in range(0,N):\n",
    "        u[ii], v[ii] = xyz2uv(V3[ii,:], d, h)\n",
    "    \n",
    "    # calculate vanishing points\n",
    "    VPx, VPy, VPz = vanishingPoints(d, h, a_vec, b_vec, c_vec)\n",
    "    \n",
    "    # plot\n",
    "    plt.figure()\n",
    "    \n",
    "    # horizon line\n",
    "    plt.plot(np.array([-ulim, ulim]), np.array([h, h]), color='grey')\n",
    "    \n",
    "    # picture plane\n",
    "    plt.plot(np.array([-ulim, ulim]), np.array([h+vlim, h+vlim]), color='grey')\n",
    "    plt.plot(np.array([-ulim, ulim]), np.array([h-vlim, h-vlim]), color='grey')\n",
    "    plt.plot(np.array([-ulim, -ulim]), np.array([h-vlim, h+vlim]), color='grey')\n",
    "    plt.plot(np.array([ulim, ulim]), np.array([h-vlim, h+vlim]), color='grey')\n",
    "    \n",
    "    # vanishing points\n",
    "    plt.plot(VPx[0], VPx[1], 'ro')\n",
    "    plt.plot(VPy[0], VPy[1], 'bo')\n",
    "    plt.plot(VPz[0], VPz[1], 'go')\n",
    "    \n",
    "    # center point\n",
    "    plt.plot(0, h, color='grey', marker='x')\n",
    "    \n",
    "    # back\n",
    "    plt.plot(np.array([u[4], u[5]]), np.array([v[4], v[5]]), color='k', linestyle=':')\n",
    "    plt.plot(np.array([u[5], u[6]]), np.array([v[5], v[6]]), color='k', linestyle=':')\n",
    "    plt.plot(np.array([u[6], u[7]]), np.array([v[6], v[7]]), color='k', linestyle=':')\n",
    "    plt.plot(np.array([u[7], u[4]]), np.array([v[7], v[4]]), color='k', linestyle=':')\n",
    "    \n",
    "    # front\n",
    "    plt.plot(np.array([u[0], u[1]]), np.array([v[0], v[1]]), color='r', linestyle='-')\n",
    "    plt.plot(np.array([u[1], u[2]]), np.array([v[1], v[2]]), color='k', linestyle='-')\n",
    "    plt.plot(np.array([u[2], u[3]]), np.array([v[2], v[3]]), color='k', linestyle='-')\n",
    "    plt.plot(np.array([u[3], u[0]]), np.array([v[3], v[0]]), color='g', linestyle='-')\n",
    "    \n",
    "    # right side\n",
    "    plt.plot(np.array([u[2], u[6]]), np.array([v[2], v[6]]), color='k', linestyle='-')\n",
    "    plt.plot(np.array([u[1], u[5]]), np.array([v[1], v[5]]), color='k', linestyle='-')\n",
    "    \n",
    "    # left side\n",
    "    plt.plot(np.array([u[0], u[4]]), np.array([v[0], v[4]]), color='b', linestyle='-')\n",
    "    plt.plot(np.array([u[3], u[7]]), np.array([v[3], v[7]]), color='k', linestyle='-')\n",
    "    \n",
    "    # equal aspect ratio\n",
    "    plt.axis('equal')\n",
    "    \n",
    "    # savefig\n",
    "    figtitle = 'threepoint_' + str(counter)\n",
    "    plt.savefig(figtitle, bbox_inches='tight', dpi=400)\n",
    "    \n",
    "    # display figure\n",
    "    plt.show()\n",
    "    \n",
    "    # prepare for next rotation\n",
    "    prevRot = newRot\n",
    "    counter = counter + 1\n",
    "    \n"
   ]
  },
  {
   "cell_type": "code",
   "execution_count": null,
   "metadata": {},
   "outputs": [],
   "source": []
  }
 ],
 "metadata": {
  "kernelspec": {
   "display_name": "Python (symbolic)",
   "language": "python",
   "name": "symbolic"
  },
  "language_info": {
   "codemirror_mode": {
    "name": "ipython",
    "version": 3
   },
   "file_extension": ".py",
   "mimetype": "text/x-python",
   "name": "python",
   "nbconvert_exporter": "python",
   "pygments_lexer": "ipython3",
   "version": "3.7.7"
  }
 },
 "nbformat": 4,
 "nbformat_minor": 2
}
