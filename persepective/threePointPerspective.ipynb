{
 "cells": [
  {
   "cell_type": "markdown",
   "metadata": {},
   "source": [
    "<h1><center>3-point perspective</center></h1>\n",
    "\n",
    "<center><a href = \"mailto: joseph.d.romano@gmail.com\">joseph.d.romano@gmail.com</a></center>"
   ]
  },
  {
   "cell_type": "code",
   "execution_count": 1,
   "metadata": {},
   "outputs": [],
   "source": [
    "%load_ext autoreload\n",
    "%autoreload 2"
   ]
  },
  {
   "cell_type": "code",
   "execution_count": 2,
   "metadata": {},
   "outputs": [],
   "source": [
    "import numpy as np\n",
    "import matplotlib.pyplot as plt\n",
    "import matplotlib.lines as lines\n",
    "import matplotlib as mpl\n",
    "%matplotlib inline\n",
    "%config InlineBackend.figure_format = 'retina'\n",
    "\n",
    "#mpl.rcParams['figure.dpi'] = 200\n",
    "#mpl.rcParams['figure.figsize'] = [5,3]\n",
    "mpl.rcParams['text.usetex'] = True"
   ]
  },
  {
   "cell_type": "markdown",
   "metadata": {},
   "source": [
    "# Various functions"
   ]
  },
  {
   "cell_type": "code",
   "execution_count": 3,
   "metadata": {},
   "outputs": [],
   "source": [
    "def standardCube():\n",
    "    '''\n",
    "    generate array of vertices for a standard cube \n",
    "    (edge length=1, corner vertice at origin)\n",
    "    '''\n",
    "    \n",
    "    P = np.zeros((8,3))\n",
    "\n",
    "    P[0,:] = np.array([0, 0, 0])\n",
    "    P[1,:] = np.array([1, 0, 0])\n",
    "    P[2,:] = np.array([1, 0, 1])\n",
    "    P[3,:] = np.array([0, 0, 1])\n",
    "    P[4,:] = np.array([0, 1, 0])\n",
    "    P[5,:] = np.array([1, 1, 0])\n",
    "    P[6,:] = np.array([1, 1, 1])\n",
    "    P[7,:] = np.array([0, 1, 1])\n",
    "    \n",
    "    return P"
   ]
  },
  {
   "cell_type": "code",
   "execution_count": 4,
   "metadata": {},
   "outputs": [],
   "source": [
    "def scale(P, scalefactors):\n",
    "    '''\n",
    "    scale points by 3-d scalefactors\n",
    "    '''\n",
    "    \n",
    "    scalex = scalefactors[0]\n",
    "    scaley = scalefactors[1]\n",
    "    scalez = scalefactors[2]\n",
    "    \n",
    "    N = P.shape[0]\n",
    "    Q = np.empty_like(P)\n",
    "    \n",
    "    for ii in range(0,N):\n",
    "        Q[ii,0] = scalex*P[ii,0]\n",
    "        Q[ii,1] = scaley*P[ii,1]\n",
    "        Q[ii,2] = scalez*P[ii,2]\n",
    "        \n",
    "    return Q"
   ]
  },
  {
   "cell_type": "code",
   "execution_count": 5,
   "metadata": {},
   "outputs": [],
   "source": [
    "def translate(P, shift):\n",
    "    '''\n",
    "    translate points by 3-d shift vector\n",
    "    '''\n",
    "    \n",
    "    N = P.shape[0]\n",
    "    Q = np.empty_like(P)\n",
    "    \n",
    "    for ii in range(0,N):\n",
    "        Q[ii,:] = P[ii,:] + shift\n",
    "        \n",
    "    return Q"
   ]
  },
  {
   "cell_type": "code",
   "execution_count": 6,
   "metadata": {},
   "outputs": [],
   "source": [
    "def Rx(a):\n",
    "    '''\n",
    "    rotates coordinates of a vector around x-axis (passive rotation)\n",
    "    '''\n",
    "    \n",
    "    R = np.array([[1,          0,         0],\n",
    "                  [0,  np.cos(a), np.sin(a)],\n",
    "                  [0, -np.sin(a), np.cos(a)]])\n",
    "    \n",
    "    return R"
   ]
  },
  {
   "cell_type": "code",
   "execution_count": 7,
   "metadata": {},
   "outputs": [],
   "source": [
    "def Ry(a):\n",
    "    '''\n",
    "    rotates coordinates of a vector around y-axis (passive rotation)\n",
    "    '''\n",
    "    \n",
    "    R = np.array([[np.cos(a), 0, -np.sin(a)], \n",
    "                  [0,         1,          0],\n",
    "                  [np.sin(a), 0,  np.cos(a)]])\n",
    "    \n",
    "    return R"
   ]
  },
  {
   "cell_type": "code",
   "execution_count": 8,
   "metadata": {},
   "outputs": [],
   "source": [
    "def Rz(a):\n",
    "    '''\n",
    "    rotates coordinates of a vector around z-axis (passive rotation)\n",
    "    '''\n",
    "    \n",
    "    R = np.array([[ np.cos(a), np.sin(a), 0], \n",
    "                  [-np.sin(a), np.cos(a), 0],\n",
    "                  [         0,         0, 1]])\n",
    "    \n",
    "    return R"
   ]
  },
  {
   "cell_type": "code",
   "execution_count": 9,
   "metadata": {},
   "outputs": [],
   "source": [
    "def rotate(P, axis, angle, prevRot):\n",
    "    '''\n",
    "    actively rotate points P->Q about transformed axis thru angle (in radians)\n",
    "    \n",
    "    prevRot: previous rotation matrix (3x3)\n",
    "    '''\n",
    "    \n",
    "    # active rotation about axis thru angle\n",
    "    if axis == 'x':\n",
    "        rot = Rx(angle)\n",
    "        \n",
    "    if axis == 'y':\n",
    "        rot = Ry(angle)\n",
    "        \n",
    "    if axis == 'z':\n",
    "        rot = Rz(angle)\n",
    "        \n",
    "    # convert to active rotation\n",
    "    R = np.linalg.inv(rot)\n",
    "    \n",
    "    # conjugate R by previous rotation to rotate around *transformed* axis\n",
    "    Rprime = np.dot(prevRot, np.dot(R, np.linalg.inv(prevRot)) )\n",
    "    \n",
    "    # new rotation\n",
    "    newRot = np.dot(Rprime, prevRot)\n",
    "    \n",
    "    # rotate points\n",
    "    N = P.shape[0]\n",
    "    Q = np.empty_like(P)\n",
    "    \n",
    "    for ii in range(0,N):\n",
    "        Q[ii,:] = np.dot(newRot, P[ii,:])\n",
    "        \n",
    "    # rotate unit vectors\n",
    "    a_vec = np.dot(newRot, np.array([1, 0, 0]))\n",
    "    b_vec = np.dot(newRot, np.array([0, 1, 0]))\n",
    "    c_vec = np.dot(newRot, np.array([0, 0, 1]))\n",
    "    \n",
    "    return Q, a_vec, b_vec, c_vec, newRot"
   ]
  },
  {
   "cell_type": "code",
   "execution_count": 10,
   "metadata": {},
   "outputs": [],
   "source": [
    "def xyz2uv(P, d, h):\n",
    "    '''\n",
    "    perspective transformation from P=(x,y,z) to (u,v)\n",
    "    \n",
    "    d: distance to picture plane\n",
    "    h: height of horizon line\n",
    "    '''\n",
    "    \n",
    "    x = P[0]\n",
    "    y = P[1]\n",
    "    z = P[2]\n",
    "    \n",
    "    u = d*x/y\n",
    "    v = d*(z-h)/y + h\n",
    "    \n",
    "    return u, v"
   ]
  },
  {
   "cell_type": "code",
   "execution_count": 11,
   "metadata": {},
   "outputs": [],
   "source": [
    "def vanishingPoints(d, h, a, b, c):\n",
    "    '''\n",
    "    calculate location of VPs in PP\n",
    "    \n",
    "    d = distance from EP to PP\n",
    "    h = distance from EP to GP\n",
    "    a,b,c = 3-d unit vectors pointing along the cube's x,y,z axes\n",
    "    '''\n",
    "    \n",
    "    # tolerance for zero value\n",
    "    tol = 1.e-6\n",
    "\n",
    "    # default values\n",
    "    VPx = np.array([np.Inf, np.Inf])\n",
    "    VPy = np.array([np.Inf, np.Inf])\n",
    "    VPz = np.array([np.Inf, np.Inf])\n",
    "    \n",
    "    # calculate VPx\n",
    "    if np.abs(a[1]) > tol:\n",
    "        u = d*a[0]/a[1]\n",
    "        v = h + d*a[2]/a[1]\n",
    "        VPx = np.array([u, v])\n",
    "        \n",
    "    # calculate VPy\n",
    "    if abs(b[1]) > tol:\n",
    "        u = d*b[0]/b[1]\n",
    "        v = h + d*b[2]/b[1]\n",
    "        VPy = np.array([u, v])\n",
    "        \n",
    "    # calculate VPz\n",
    "    if abs(c[1]) > tol:\n",
    "        u = d*c[0]/c[1]\n",
    "        v = h + d*c[2]/c[1]\n",
    "        VPz = np.array([u, v])\n",
    "        \n",
    "    return VPx, VPy, VPz"
   ]
  },
  {
   "cell_type": "markdown",
   "metadata": {},
   "source": [
    "# Interactive 3-point perspective code"
   ]
  },
  {
   "cell_type": "code",
   "execution_count": 12,
   "metadata": {
    "scrolled": false
   },
   "outputs": [
    {
     "name": "stdout",
     "output_type": "stream",
     "text": [
      "\n",
      "\n",
      "input axis (x,y,z; w to quit): z\n",
      "input angle (degrees): 30\n"
     ]
    },
    {
     "data": {
      "image/png": "[encoded data removed]",
      "text/plain": [
       "<Figure size 432x288 with 1 Axes>"
      ]
     },
     "metadata": {
      "image/png": {
       "height": 247,
       "width": 368
      },
      "needs_background": "light"
     },
     "output_type": "display_data"
    },
    {
     "name": "stdout",
     "output_type": "stream",
     "text": [
      "\n",
      "\n",
      "input axis (x,y,z; w to quit): x\n",
      "input angle (degrees): 30\n"
     ]
    },
    {
     "data": {
      "image/png": "[encoded data removed]",
      "text/plain": [
       "<Figure size 432x288 with 1 Axes>"
      ]
     },
     "metadata": {
      "image/png": {
       "height": 247,
       "width": 376
      },
      "needs_background": "light"
     },
     "output_type": "display_data"
    },
    {
     "name": "stdout",
     "output_type": "stream",
     "text": [
      "\n",
      "\n",
      "input axis (x,y,z; w to quit): y\n",
      "input angle (degrees): -15\n"
     ]
    },
    {
     "data": {
      "image/png": "[encoded data removed]",
      "text/plain": [
       "<Figure size 432x288 with 1 Axes>"
      ]
     },
     "metadata": {
      "image/png": {
       "height": 247,
       "width": 376
      },
      "needs_background": "light"
     },
     "output_type": "display_data"
    },
    {
     "name": "stdout",
     "output_type": "stream",
     "text": [
      "\n",
      "\n",
      "input axis (x,y,z; w to quit): z\n",
      "input angle (degrees): 15\n"
     ]
    },
    {
     "data": {
      "image/png": "[encoded data removed]",
      "text/plain": [
       "<Figure size 432x288 with 1 Axes>"
      ]
     },
     "metadata": {
      "image/png": {
       "height": 247,
       "width": 379
      },
      "needs_background": "light"
     },
     "output_type": "display_data"
    },
    {
     "name": "stdout",
     "output_type": "stream",
     "text": [
      "\n",
      "\n",
      "input axis (x,y,z; w to quit): y\n",
      "input angle (degrees): -10\n"
     ]
    },
    {
     "data": {
      "image/png": "[encoded data removed]",
      "text/plain": [
       "<Figure size 432x288 with 1 Axes>"
      ]
     },
     "metadata": {
      "image/png": {
       "height": 247,
       "width": 368
      },
      "needs_background": "light"
     },
     "output_type": "display_data"
    },
    {
     "name": "stdout",
     "output_type": "stream",
     "text": [
      "\n",
      "\n",
      "input axis (x,y,z; w to quit): w\n"
     ]
    }
   ],
   "source": [
    "# interactive 3-point perspective of a box\n",
    "\n",
    "# number of vertices for box\n",
    "N = 8\n",
    "\n",
    "# distance of eye point to picture plane\n",
    "d = 1\n",
    "\n",
    "# height of horizon line above ground plane\n",
    "h = 1\n",
    "\n",
    "# approximately 30 degree angular field\n",
    "ulim = 0.5*d\n",
    "vlim = 0.5*d\n",
    "\n",
    "# eventual translation to a point in physical space beyond picture plane\n",
    "#shift = np.array([0, d+5, h]) # vertex at CP on HL\n",
    "shift = np.array([-0.5+1, d+5, h-0.5+1]) # right and above HL\n",
    "   \n",
    "# generate vertices for standard cube \n",
    "V0 = standardCube()\n",
    "    \n",
    "# scale cube ('box' = rectangular parallelpiped)\n",
    "scalefactors = np.array([1.5, 1.5, 1.5])\n",
    "V1 = scale(V0, scalefactors)\n",
    "    \n",
    "# initial rotation (identity)\n",
    "prevRot = np.eye(3)\n",
    "    \n",
    "# loop for successive rotations\n",
    "counter = 1\n",
    "axis = ''\n",
    "while 1!=0:\n",
    "    \n",
    "    # input axis, angle\n",
    "    print('\\n')\n",
    "    axis  = input('input axis (x,y,z; w to quit): ')\n",
    "    if axis=='w':\n",
    "        break\n",
    "        \n",
    "    angle = input('input angle (degrees): ')\n",
    "    \n",
    "    # convert string input to float and degrees to radians\n",
    "    angle = float(angle)\n",
    "    angle = np.deg2rad(angle)\n",
    "    \n",
    "    # perform rotation\n",
    "    V2, a_vec, b_vec, c_vec, newRot = rotate(V1, axis, angle, prevRot)\n",
    "\n",
    "    # perform translation to a point in physical space beyond picture plane\n",
    "    V3 = translate(V2, shift)\n",
    "    \n",
    "    # perform perspective transformation from physical space to picture plane\n",
    "    u = np.zeros(N)\n",
    "    v = np.zeros(N)\n",
    "    \n",
    "    for ii in range(0,N):\n",
    "        u[ii], v[ii] = xyz2uv(V3[ii,:], d, h)\n",
    "    \n",
    "    # calculate vanishing points\n",
    "    VPx, VPy, VPz = vanishingPoints(d, h, a_vec, b_vec, c_vec)\n",
    "    \n",
    "    # plot\n",
    "    plt.figure()\n",
    "    \n",
    "    # horizon line\n",
    "    plt.plot(np.array([-ulim, ulim]), np.array([h, h]), color='r')\n",
    "    \n",
    "    # picture plane\n",
    "    plt.plot(np.array([-ulim, ulim]), np.array([h+vlim, h+vlim]), color='k')\n",
    "    plt.plot(np.array([-ulim, ulim]), np.array([h-vlim, h-vlim]), color='k')\n",
    "    plt.plot(np.array([-ulim, -ulim]), np.array([h-vlim, h+vlim]), color='k')\n",
    "    plt.plot(np.array([ulim, ulim]), np.array([h-vlim, h+vlim]), color='k')\n",
    "    \n",
    "    # vanishing points\n",
    "    plt.plot(VPx[0], VPx[1], 'ro')\n",
    "    plt.plot(VPy[0], VPy[1], 'bo')\n",
    "    plt.plot(VPz[0], VPz[1], 'ko')\n",
    "    \n",
    "    # center point\n",
    "    plt.plot(0, h, 'bx')\n",
    "    \n",
    "    # back\n",
    "    plt.plot(np.array([u[4], u[5]]), np.array([v[4], v[5]]), color='k', linestyle=':')\n",
    "    plt.plot(np.array([u[5], u[6]]), np.array([v[5], v[6]]), color='k', linestyle=':')\n",
    "    plt.plot(np.array([u[6], u[7]]), np.array([v[6], v[7]]), color='k', linestyle=':')\n",
    "    plt.plot(np.array([u[7], u[4]]), np.array([v[7], v[4]]), color='k', linestyle=':')\n",
    "    \n",
    "    # front\n",
    "    plt.plot(np.array([u[0], u[1]]), np.array([v[0], v[1]]), color='k', linestyle='-')\n",
    "    plt.plot(np.array([u[1], u[2]]), np.array([v[1], v[2]]), color='k', linestyle='-')\n",
    "    plt.plot(np.array([u[2], u[3]]), np.array([v[2], v[3]]), color='k', linestyle='-')\n",
    "    plt.plot(np.array([u[3], u[0]]), np.array([v[3], v[0]]), color='k', linestyle='-')\n",
    "    \n",
    "    # right side\n",
    "    plt.plot(np.array([u[2], u[6]]), np.array([v[2], v[6]]), color='k', linestyle='-.')\n",
    "    plt.plot(np.array([u[1], u[5]]), np.array([v[1], v[5]]), color='k', linestyle='-.')\n",
    "    \n",
    "    # left side\n",
    "    plt.plot(np.array([u[0], u[4]]), np.array([v[0], v[4]]), color='k', linestyle='-')\n",
    "    plt.plot(np.array([u[3], u[7]]), np.array([v[3], v[7]]), color='k', linestyle='-')\n",
    "    \n",
    "    # equal aspect ratio\n",
    "    plt.axis('equal')\n",
    "    \n",
    "    # savefig\n",
    "    figtitle = 'threepoint_' + str(counter)\n",
    "    plt.savefig(figtitle, bbox_inches='tight', dpi=400)\n",
    "    \n",
    "    # display figure\n",
    "    plt.show()\n",
    "    \n",
    "    # prepare for next rotation\n",
    "    prevRot = newRot\n",
    "    counter = counter + 1\n",
    "    \n"
   ]
  },
  {
   "cell_type": "code",
   "execution_count": null,
   "metadata": {},
   "outputs": [],
   "source": []
  },
  {
   "cell_type": "code",
   "execution_count": null,
   "metadata": {},
   "outputs": [],
   "source": []
  }
 ],
 "metadata": {
  "kernelspec": {
   "display_name": "Python (symbolic)",
   "language": "python",
   "name": "symbolic"
  },
  "language_info": {
   "codemirror_mode": {
    "name": "ipython",
    "version": 3
   },
   "file_extension": ".py",
   "mimetype": "text/x-python",
   "name": "python",
   "nbconvert_exporter": "python",
   "pygments_lexer": "ipython3",
   "version": "3.7.7"
  }
 },
 "nbformat": 4,
 "nbformat_minor": 2
}
